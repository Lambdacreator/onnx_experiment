{
  "nbformat": 4,
  "nbformat_minor": 0,
  "metadata": {
    "colab": {
      "provenance": []
    },
    "kernelspec": {
      "name": "python3",
      "display_name": "Python 3"
    },
    "language_info": {
      "name": "python"
    }
  },
  "cells": [
    {
      "cell_type": "markdown",
      "source": [
        "**Game logic**"
      ],
      "metadata": {
        "id": "NZogRIy9yq_r"
      }
    },
    {
      "cell_type": "code",
      "source": [
        "import numpy as np\n",
        "\n",
        "def life_step(X):\n",
        "    live_neighbors = sum(np.roll(np.roll(X, i, 0), j, 1)\n",
        "                     for i in (-1, 0, 1) for j in (-1, 0, 1)\n",
        "                     if (i != 0 or j != 0))\n",
        "    return (live_neighbors == 3) | (X & (live_neighbors == 2)).astype(int)"
      ],
      "metadata": {
        "id": "xjmVs7NXypHL"
      },
      "execution_count": 3,
      "outputs": []
    },
    {
      "cell_type": "markdown",
      "source": [
        "**Generate Game Boards**"
      ],
      "metadata": {
        "id": "MGqQAyk3yzQ9"
      }
    },
    {
      "cell_type": "code",
      "source": [
        "import matplotlib.pyplot as plt\n",
        "\n",
        "board_shape = (20, 20)\n",
        "board_size = board_shape[0] * board_shape[1]\n",
        "probability_alive = 0.15\n",
        "\n",
        "def generate_frames(num_frames, board_shape=(100,100), prob_alive=0.15):\n",
        "    return np.array([\n",
        "        np.random.choice([False, True], size=board_shape, p=[1-prob_alive, prob_alive])\n",
        "        for _ in range(num_frames)\n",
        "    ]).astype(int)\n",
        "\n",
        "def render_frames(frame1, frame2):\n",
        "    plt.subplot(1, 2, 1)\n",
        "    plt.imshow(frame1.flatten().reshape(board_shape), cmap='gray')\n",
        "\n",
        "    plt.subplot(1, 2, 2)\n",
        "    plt.imshow(frame2.flatten().reshape(board_shape), cmap='gray')\n",
        "\n",
        "frames = generate_frames(10, board_shape=board_shape, prob_alive=probability_alive)\n",
        "print(frames.shape) # (num_frames, board_w, board_h)"
      ],
      "metadata": {
        "colab": {
          "base_uri": "https://localhost:8080/"
        },
        "id": "UPqot1qryw6J",
        "outputId": "0b249aad-484f-4ba2-fd45-52ca1ebdad1f"
      },
      "execution_count": 4,
      "outputs": [
        {
          "output_type": "stream",
          "name": "stdout",
          "text": [
            "(10, 20, 20)\n"
          ]
        }
      ]
    },
    {
      "cell_type": "code",
      "source": [
        "render_frames(frames[1], life_step(frames[1]))"
      ],
      "metadata": {
        "colab": {
          "base_uri": "https://localhost:8080/",
          "height": 286
        },
        "id": "9FuYVxGzzEAz",
        "outputId": "b2f5de36-a485-4672-bd2b-21a04fe20d34"
      },
      "execution_count": 5,
      "outputs": [
        {
          "output_type": "display_data",
          "data": {
            "text/plain": [
              "<Figure size 640x480 with 2 Axes>"
            ],
            "image/png": "[encoded data removed]"
          },
          "metadata": {}
        }
      ]
    },
    {
      "cell_type": "code",
      "source": [
        "def reshape_input(X):\n",
        "    return X.reshape(X.shape[0], X.shape[1], X.shape[2], 1)\n",
        "\n",
        "def generate_dataset(num_frames, board_shape, prob_alive):\n",
        "    X = generate_frames(num_frames, board_shape=board_shape, prob_alive=prob_alive)\n",
        "    X = reshape_input(X)\n",
        "    y = np.array([\n",
        "        life_step(frame)\n",
        "        for frame in X\n",
        "    ])\n",
        "    return X, y\n",
        "\n",
        "train_size = 70000\n",
        "val_size   = 10000\n",
        "test_size  = 20000"
      ],
      "metadata": {
        "id": "rXGLqKOa0oBh"
      },
      "execution_count": 6,
      "outputs": []
    },
    {
      "cell_type": "code",
      "source": [
        "print(\"Training Set:\")\n",
        "X_train, y_train = generate_dataset(train_size, board_shape, probability_alive)\n",
        "print(X_train.shape)\n",
        "print(y_train.shape)"
      ],
      "metadata": {
        "colab": {
          "base_uri": "https://localhost:8080/"
        },
        "id": "XoSHAYln0pmr",
        "outputId": "d412f7df-a5ba-4905-d23e-2a129efc4b51"
      },
      "execution_count": 7,
      "outputs": [
        {
          "output_type": "stream",
          "name": "stdout",
          "text": [
            "Training Set:\n",
            "(70000, 20, 20, 1)\n",
            "(70000, 20, 20, 1)\n"
          ]
        }
      ]
    },
    {
      "cell_type": "code",
      "source": [
        "print(\"Validation Set:\")\n",
        "X_val, y_val = generate_dataset(val_size, board_shape, probability_alive)\n",
        "print(X_val.shape)\n",
        "print(y_val.shape)"
      ],
      "metadata": {
        "colab": {
          "base_uri": "https://localhost:8080/"
        },
        "id": "Rzf7QsNi02pa",
        "outputId": "d561eccb-4e84-4732-dbb5-a38d83e78cf3"
      },
      "execution_count": 8,
      "outputs": [
        {
          "output_type": "stream",
          "name": "stdout",
          "text": [
            "Validation Set:\n",
            "(10000, 20, 20, 1)\n",
            "(10000, 20, 20, 1)\n"
          ]
        }
      ]
    },
    {
      "cell_type": "code",
      "source": [
        "print(\"Test Set:\")\n",
        "X_test, y_test = generate_dataset(test_size, board_shape, probability_alive)\n",
        "print(X_test.shape)\n",
        "print(y_test.shape)"
      ],
      "metadata": {
        "colab": {
          "base_uri": "https://localhost:8080/"
        },
        "id": "zexy_OFc05mJ",
        "outputId": "ad2909bb-bdfb-44ce-f82a-a4b1dc74fb29"
      },
      "execution_count": 9,
      "outputs": [
        {
          "output_type": "stream",
          "name": "stdout",
          "text": [
            "Test Set:\n",
            "(20000, 20, 20, 1)\n",
            "(20000, 20, 20, 1)\n"
          ]
        }
      ]
    },
    {
      "cell_type": "markdown",
      "source": [
        "**Build a Convolutional Neural Network**\n"
      ],
      "metadata": {
        "id": "nGU5RLjM09Oq"
      }
    },
    {
      "cell_type": "code",
      "source": [
        "from keras.models import Sequential\n",
        "from keras.layers import Dense, Dropout, Activation, Conv2D, MaxPool2D\n",
        "\n",
        "# CNN Properties\n",
        "filters = 50\n",
        "kernel_size = (3, 3) # look at all 8 neighboring cells, plus itself\n",
        "strides = 1\n",
        "hidden_dims = 100\n",
        "\n",
        "model = Sequential()\n",
        "model.add(Conv2D(\n",
        "    filters,\n",
        "    kernel_size,\n",
        "    padding='same',\n",
        "    activation='relu',\n",
        "    strides=strides,\n",
        "    input_shape=(board_shape[0], board_shape[1], 1)\n",
        "))\n",
        "model.add(Dense(hidden_dims))\n",
        "model.add(Dense(1))\n",
        "model.add(Activation('sigmoid'))\n",
        "\n",
        "model.compile(loss='binary_crossentropy', optimizer='adam', metrics=['accuracy'])"
      ],
      "metadata": {
        "id": "Vaw5amdn06yw"
      },
      "execution_count": 33,
      "outputs": []
    },
    {
      "cell_type": "code",
      "source": [
        "model.summary()"
      ],
      "metadata": {
        "colab": {
          "base_uri": "https://localhost:8080/"
        },
        "id": "CuOTmjkT3w1X",
        "outputId": "3e3293c2-3cf9-4d1f-9698-f42b3650f519"
      },
      "execution_count": 34,
      "outputs": [
        {
          "output_type": "stream",
          "name": "stdout",
          "text": [
            "Model: \"sequential_3\"\n",
            "_________________________________________________________________\n",
            " Layer (type)                Output Shape              Param #   \n",
            "=================================================================\n",
            " conv2d_2 (Conv2D)           (None, 20, 20, 50)        500       \n",
            "                                                                 \n",
            " dense_3 (Dense)             (None, 20, 20, 100)       5100      \n",
            "                                                                 \n",
            " dense_4 (Dense)             (None, 20, 20, 1)         101       \n",
            "                                                                 \n",
            " activation (Activation)     (None, 20, 20, 1)         0         \n",
            "                                                                 \n",
            "=================================================================\n",
            "Total params: 5701 (22.27 KB)\n",
            "Trainable params: 5701 (22.27 KB)\n",
            "Non-trainable params: 0 (0.00 Byte)\n",
            "_________________________________________________________________\n"
          ]
        }
      ]
    },
    {
      "cell_type": "code",
      "source": [
        "def train(model, X_train, y_train, X_val, y_val, batch_size=50, epochs=5, filename_suffix=''):\n",
        "    model.fit(\n",
        "        X_train, y_train,\n",
        "        batch_size=batch_size,\n",
        "        epochs=epochs,\n",
        "        validation_data=(X_val, y_val)\n",
        "    )\n",
        "\n",
        "\n",
        "train(model, X_train, y_train, X_val, y_val, filename_suffix='_basic')"
      ],
      "metadata": {
        "colab": {
          "base_uri": "https://localhost:8080/"
        },
        "id": "8ZNQY92J3-AF",
        "outputId": "03e73b93-d0f7-4cf7-f0c6-620d37e72dfd"
      },
      "execution_count": 35,
      "outputs": [
        {
          "output_type": "stream",
          "name": "stdout",
          "text": [
            "Epoch 1/5\n",
            "1400/1400 [==============================] - 47s 33ms/step - loss: 0.1321 - accuracy: 0.9635 - val_loss: 0.0826 - val_accuracy: 0.9815\n",
            "Epoch 2/5\n",
            "1400/1400 [==============================] - 45s 32ms/step - loss: 0.0812 - accuracy: 0.9817 - val_loss: 0.0819 - val_accuracy: 0.9815\n",
            "Epoch 3/5\n",
            "1400/1400 [==============================] - 44s 31ms/step - loss: 0.0810 - accuracy: 0.9817 - val_loss: 0.0816 - val_accuracy: 0.9815\n",
            "Epoch 4/5\n",
            "1400/1400 [==============================] - 45s 32ms/step - loss: 0.0809 - accuracy: 0.9817 - val_loss: 0.0817 - val_accuracy: 0.9815\n",
            "Epoch 5/5\n",
            "1400/1400 [==============================] - 44s 31ms/step - loss: 0.0809 - accuracy: 0.9817 - val_loss: 0.0816 - val_accuracy: 0.9815\n"
          ]
        }
      ]
    },
    {
      "cell_type": "code",
      "source": [
        "X, y = generate_dataset(1, board_shape=board_shape, prob_alive=probability_alive)\n",
        "\n",
        "render_frames(X[0].flatten().reshape(board_shape), y)"
      ],
      "metadata": {
        "colab": {
          "base_uri": "https://localhost:8080/",
          "height": 286
        },
        "id": "Doaf1f3p4b7f",
        "outputId": "1bf7a5a4-3cd9-40c4-894e-5768b93b8c5e"
      },
      "execution_count": 10,
      "outputs": [
        {
          "output_type": "display_data",
          "data": {
            "text/plain": [
              "<Figure size 640x480 with 2 Axes>"
            ],
            "image/png": "[encoded data removed]"
          },
          "metadata": {}
        }
      ]
    },
    {
      "cell_type": "code",
      "source": [
        "# Make predictions on a sample dataset, similar to how you generate your training set\n",
        "pred_probabilities = model.predict(X)\n",
        "\n",
        "# Since the output and labels are both (1, 20, 20, 1), squeeze out the singleton dimensions\n",
        "pred_classes = np.squeeze(pred_probabilities)  # This results in (20, 20)\n",
        "y_classes = np.squeeze(y)  # This also results in (20, 20)\n",
        "\n",
        "# Assuming the model outputs a continuous range that needs to be thresholded to get binary classes:\n",
        "threshold = 0.5\n",
        "pred_classes = (pred_classes > threshold).astype(int)  # Convert to binary classes\n",
        "\n",
        "# Calculate discrepancies\n",
        "incorrect_cells = np.count_nonzero(pred_classes != y_classes)\n",
        "print(incorrect_cells, \"incorrect cells.\")\n"
      ],
      "metadata": {
        "colab": {
          "base_uri": "https://localhost:8080/"
        },
        "id": "yMlYXGP44iGn",
        "outputId": "bace579a-9566-4794-d952-b57786236842"
      },
      "execution_count": 37,
      "outputs": [
        {
          "output_type": "stream",
          "name": "stdout",
          "text": [
            "1/1 [==============================] - 0s 154ms/step\n",
            "10 incorrect cells.\n"
          ]
        }
      ]
    },
    {
      "cell_type": "code",
      "source": [
        "render_frames(y, pred_classes.flatten().reshape(board_shape))"
      ],
      "metadata": {
        "colab": {
          "base_uri": "https://localhost:8080/",
          "height": 286
        },
        "id": "8WTDr9Qg53Ci",
        "outputId": "c3ba686e-a2cb-4fad-c183-7cf44b6d54aa"
      },
      "execution_count": 38,
      "outputs": [
        {
          "output_type": "display_data",
          "data": {
            "text/plain": [
              "<Figure size 640x480 with 2 Axes>"
            ],
            "image/png": "[encoded data removed]"
          },
          "metadata": {}
        }
      ]
    },
    {
      "cell_type": "code",
      "source": [
        "print(pred_classes.flatten().reshape(board_shape) - y.flatten().reshape(board_shape))"
      ],
      "metadata": {
        "colab": {
          "base_uri": "https://localhost:8080/"
        },
        "id": "vvbrmfis57-Z",
        "outputId": "5ffa2503-351e-4438-91a4-214b0c941f2e"
      },
      "execution_count": null,
      "outputs": [
        {
          "output_type": "stream",
          "name": "stdout",
          "text": [
            "[[ 0  0  0  0  0  0  0  0  0  0  0  0  0  0  0  0  0  0  0  0]\n",
            " [ 0  0  0  0  0  0  0  0  0  0  0  0  0  0  0  0  0  0  0  0]\n",
            " [ 0  0  0  0  0  0  0  0  0  0  0  0  0  0  0  0  0  0  0  0]\n",
            " [ 0  0  0  0  0  0  0  0  0  0  0  0  0  0  0  0  0  0  0  0]\n",
            " [ 0  0  0  0  0  0  0  0  0  0  0  0  0  0  0  0  0  0  0  0]\n",
            " [-1  0  0  0  0  0  0  0  0  0  0  0  0  0  0  0  0  0  0  0]\n",
            " [-1  0  0  0  0  0  0  0  0  0  0  0  0  0  0  0  0  0  0 -1]\n",
            " [ 0  0  0  0  0  0  0  0  0  0  0  0  0  0  0  0  0  0  0  0]\n",
            " [ 0  0  0  0  0  0  0  0  0  0  0  0  0  0  0  0  0  0  0 -1]\n",
            " [ 0  0  0  0  0  0  0  0  0  0  0  0  0  0  0  0  0  0  0  0]\n",
            " [ 0  0  0  0  0  0  0  0  0  0  0  0  0  0  0  0  0  0  0 -1]\n",
            " [ 0  0  0  0  0  0  0  0  0  0  0  0  0  0  0  0  0  0  0  0]\n",
            " [ 0  0  0  0  0  0  0  0  0  0  0  0  0  0  0  0  0  0  0  0]\n",
            " [ 0  0  0  0  0  0  0  0  0  0  0  0  0  0  0  0  0  0  0  0]\n",
            " [ 0  0  0  0  0  0  0  0  0  0  0  0  0  0  0  0  0  0  0  0]\n",
            " [ 0  0  0  0  0  0  0  0  0  0  0  0  0  0  0  0  0  0  0  0]\n",
            " [ 0  0  0  0  0  0  0  0  0  0  0  0  0  0  0  0  0  0  0  0]\n",
            " [ 0  0  0  0  0  0  0  0  0  0  0  0  0  0  0  0  0  0  0  0]\n",
            " [ 0  0  0  0  0  0  0  0  0  0  0  0  0  0  0  0  0  0  0  0]\n",
            " [ 0  0  0  0  0  0  0  0  0  0  0  0  0  0  0  0  0  0  0  0]]\n"
          ]
        }
      ]
    },
    {
      "cell_type": "code",
      "source": [
        "model_save_path = './keras_model'\n",
        "model.save(model_save_path)"
      ],
      "metadata": {
        "id": "PzTHjIHQAG3G"
      },
      "execution_count": 39,
      "outputs": []
    },
    {
      "cell_type": "code",
      "source": [
        "!pip install tf2onnx\n",
        "!pip install onnxruntime\n",
        "import tensorflow as tf\n",
        "import tf2onnx\n",
        "\n",
        "input_spec = [tf.TensorSpec([None, board_shape[0], board_shape[1], 1], tf.float32, name='input')]\n",
        "onnx_model, _ = tf2onnx.convert.from_keras(model, input_signature=input_spec, opset=12)  # Try different opset versions"
      ],
      "metadata": {
        "id": "DKXa1DiyAlEd",
        "colab": {
          "base_uri": "https://localhost:8080/"
        },
        "outputId": "cf9b7e7b-6ad4-4c1c-f1aa-ea2acca422a0"
      },
      "execution_count": 40,
      "outputs": [
        {
          "output_type": "stream",
          "name": "stdout",
          "text": [
            "Requirement already satisfied: tf2onnx in /usr/local/lib/python3.10/dist-packages (1.16.1)\n",
            "Requirement already satisfied: numpy>=1.14.1 in /usr/local/lib/python3.10/dist-packages (from tf2onnx) (1.25.2)\n",
            "Requirement already satisfied: onnx>=1.4.1 in /usr/local/lib/python3.10/dist-packages (from tf2onnx) (1.16.0)\n",
            "Requirement already satisfied: requests in /usr/local/lib/python3.10/dist-packages (from tf2onnx) (2.31.0)\n",
            "Requirement already satisfied: six in /usr/local/lib/python3.10/dist-packages (from tf2onnx) (1.16.0)\n",
            "Requirement already satisfied: flatbuffers>=1.12 in /usr/local/lib/python3.10/dist-packages (from tf2onnx) (24.3.25)\n",
            "Requirement already satisfied: protobuf~=3.20 in /usr/local/lib/python3.10/dist-packages (from tf2onnx) (3.20.3)\n",
            "Requirement already satisfied: charset-normalizer<4,>=2 in /usr/local/lib/python3.10/dist-packages (from requests->tf2onnx) (3.3.2)\n",
            "Requirement already satisfied: idna<4,>=2.5 in /usr/local/lib/python3.10/dist-packages (from requests->tf2onnx) (3.7)\n",
            "Requirement already satisfied: urllib3<3,>=1.21.1 in /usr/local/lib/python3.10/dist-packages (from requests->tf2onnx) (2.0.7)\n",
            "Requirement already satisfied: certifi>=2017.4.17 in /usr/local/lib/python3.10/dist-packages (from requests->tf2onnx) (2024.2.2)\n",
            "Requirement already satisfied: onnxruntime in /usr/local/lib/python3.10/dist-packages (1.17.3)\n",
            "Requirement already satisfied: coloredlogs in /usr/local/lib/python3.10/dist-packages (from onnxruntime) (15.0.1)\n",
            "Requirement already satisfied: flatbuffers in /usr/local/lib/python3.10/dist-packages (from onnxruntime) (24.3.25)\n",
            "Requirement already satisfied: numpy>=1.21.6 in /usr/local/lib/python3.10/dist-packages (from onnxruntime) (1.25.2)\n",
            "Requirement already satisfied: packaging in /usr/local/lib/python3.10/dist-packages (from onnxruntime) (24.0)\n",
            "Requirement already satisfied: protobuf in /usr/local/lib/python3.10/dist-packages (from onnxruntime) (3.20.3)\n",
            "Requirement already satisfied: sympy in /usr/local/lib/python3.10/dist-packages (from onnxruntime) (1.12)\n",
            "Requirement already satisfied: humanfriendly>=9.1 in /usr/local/lib/python3.10/dist-packages (from coloredlogs->onnxruntime) (10.0)\n",
            "Requirement already satisfied: mpmath>=0.19 in /usr/local/lib/python3.10/dist-packages (from sympy->onnxruntime) (1.3.0)\n"
          ]
        }
      ]
    },
    {
      "cell_type": "code",
      "source": [
        "# Save the ONNX model to disk\n",
        "onnx_model_path = 'conway_game_of_life.onnx'\n",
        "with open(onnx_model_path, \"wb\") as f:\n",
        "    f.write(onnx_model.SerializeToString())"
      ],
      "metadata": {
        "id": "dhBqonSqToBC"
      },
      "execution_count": 41,
      "outputs": []
    },
    {
      "cell_type": "code",
      "source": [
        "# !pip install netron\n",
        "# !pip install graphviz\n",
        "\n",
        "# import netron\n",
        "# netron.start('/content/conway_game_of_life.onnx')\n",
        "\n",
        "\n",
        "!pip install -q netron"
      ],
      "metadata": {
        "id": "qkO397zIZDQn",
        "colab": {
          "base_uri": "https://localhost:8080/"
        },
        "outputId": "afaa32c9-fe94-4a5c-e6cd-e53c6e0cb3d2"
      },
      "execution_count": null,
      "outputs": [
        {
          "output_type": "stream",
          "name": "stdout",
          "text": [
            "\u001b[?25l     \u001b[90m━━━━━━━━━━━━━━━━━━━━━━━━━━━━━━━━━━━━━━━━\u001b[0m \u001b[32m0.0/1.7 MB\u001b[0m \u001b[31m?\u001b[0m eta \u001b[36m-:--:--\u001b[0m\r\u001b[2K     \u001b[91m╸\u001b[0m\u001b[90m━━━━━━━━━━━━━━━━━━━━━━━━━━━━━━━━━━━━━━━\u001b[0m \u001b[32m0.0/1.7 MB\u001b[0m \u001b[31m1.4 MB/s\u001b[0m eta \u001b[36m0:00:02\u001b[0m\r\u001b[2K     \u001b[91m━━\u001b[0m\u001b[90m╺\u001b[0m\u001b[90m━━━━━━━━━━━━━━━━━━━━━━━━━━━━━━━━━━━━━\u001b[0m \u001b[32m0.1/1.7 MB\u001b[0m \u001b[31m1.5 MB/s\u001b[0m eta \u001b[36m0:00:02\u001b[0m\r\u001b[2K     \u001b[91m━━━━━\u001b[0m\u001b[91m╸\u001b[0m\u001b[90m━━━━━━━━━━━━━━━━━━━━━━━━━━━━━━━━━━\u001b[0m \u001b[32m0.2/1.7 MB\u001b[0m \u001b[31m2.4 MB/s\u001b[0m eta \u001b[36m0:00:01\u001b[0m\r\u001b[2K     \u001b[91m━━━━━━━━━━━━\u001b[0m\u001b[90m╺\u001b[0m\u001b[90m━━━━━━━━━━━━━━━━━━━━━━━━━━━\u001b[0m \u001b[32m0.5/1.7 MB\u001b[0m \u001b[31m3.8 MB/s\u001b[0m eta \u001b[36m0:00:01\u001b[0m\r\u001b[2K     \u001b[91m━━━━━━━━━━━━━━━━━━━━━━━━━\u001b[0m\u001b[90m╺\u001b[0m\u001b[90m━━━━━━━━━━━━━━\u001b[0m \u001b[32m1.1/1.7 MB\u001b[0m \u001b[31m6.3 MB/s\u001b[0m eta \u001b[36m0:00:01\u001b[0m\r\u001b[2K     \u001b[91m━━━━━━━━━━━━━━━━━━━━━━━━━━━━━━━━━━━━━━━\u001b[0m\u001b[91m╸\u001b[0m \u001b[32m1.7/1.7 MB\u001b[0m \u001b[31m8.5 MB/s\u001b[0m eta \u001b[36m0:00:01\u001b[0m\r\u001b[2K     \u001b[90m━━━━━━━━━━━━━━━━━━━━━━━━━━━━━━━━━━━━━━━━\u001b[0m \u001b[32m1.7/1.7 MB\u001b[0m \u001b[31m7.8 MB/s\u001b[0m eta \u001b[36m0:00:00\u001b[0m\n",
            "\u001b[?25h"
          ]
        }
      ]
    },
    {
      "cell_type": "code",
      "source": [
        "import netron\n",
        "import portpicker\n",
        "from google.colab import output\n",
        "\n",
        "port = portpicker.pick_unused_port()\n",
        "\n",
        "# Read the model file and start the netron browser.\n",
        "with output.temporary():\n",
        "  netron.start('/content/conway_game_of_life.onnx', port, browse=False)\n",
        "\n",
        "output.serve_kernel_port_as_iframe(port, height='800')"
      ],
      "metadata": {
        "colab": {
          "base_uri": "https://localhost:8080/",
          "height": 821
        },
        "id": "E_3xdat3ae7W",
        "outputId": "df500701-ebd1-40b7-deed-d513f7b73b2f"
      },
      "execution_count": null,
      "outputs": [
        {
          "output_type": "display_data",
          "data": {
            "text/plain": [
              "<IPython.core.display.Javascript object>"
            ],
            "application/javascript": [
              "(async (port, path, width, height, cache, element) => {\n",
              "    if (!google.colab.kernel.accessAllowed && !cache) {\n",
              "      return;\n",
              "    }\n",
              "    element.appendChild(document.createTextNode(''));\n",
              "    const url = await google.colab.kernel.proxyPort(port, {cache});\n",
              "    const iframe = document.createElement('iframe');\n",
              "    iframe.src = new URL(path, url).toString();\n",
              "    iframe.height = height;\n",
              "    iframe.width = width;\n",
              "    iframe.style.border = 0;\n",
              "    iframe.allow = [\n",
              "        'accelerometer',\n",
              "        'autoplay',\n",
              "        'camera',\n",
              "        'clipboard-read',\n",
              "        'clipboard-write',\n",
              "        'gyroscope',\n",
              "        'magnetometer',\n",
              "        'microphone',\n",
              "        'serial',\n",
              "        'usb',\n",
              "        'xr-spatial-tracking',\n",
              "    ].join('; ');\n",
              "    element.appendChild(iframe);\n",
              "  })(46525, \"/\", \"100%\", \"800\", false, window.element)"
            ]
          },
          "metadata": {}
        }
      ]
    },
    {
      "cell_type": "code",
      "source": [
        "import onnxruntime as ort\n",
        "import numpy as np\n",
        "import matplotlib.pyplot as plt\n",
        "\n",
        "# Assuming pred_classes now contains binary predictions, similar to the direct TensorFlow model predictions\n",
        "def apply_threshold(predictions, threshold=0.5):\n",
        "    \"\"\"Apply a binary threshold to sigmoid outputs to convert them to 0 or 1.\"\"\"\n",
        "    return (predictions > threshold).astype(int)\n",
        "\n",
        "# Load the ONNX model\n",
        "sess = ort.InferenceSession(\"conway_game_of_life.onnx\")\n",
        "\n",
        "# Prepare the input. Make sure it is in the right shape and type.\n",
        "input_name = sess.get_inputs()[0].name\n",
        "X_onnx = X_test.astype(np.float32)  # Assuming X_test is your test data array\n",
        "\n",
        "# Run the model using ONNX runtime\n",
        "output_name = sess.get_outputs()[0].name\n",
        "pred_onnx = sess.run([output_name], {input_name: X_onnx})[0]\n",
        "\n",
        "# Apply threshold to convert probabilities to binary values (0 or 1)\n",
        "pred_classes = apply_threshold(pred_onnx)"
      ],
      "metadata": {
        "id": "tE-D2bnBWuxq",
        "colab": {
          "base_uri": "https://localhost:8080/",
          "height": 216
        },
        "outputId": "751341cf-7164-4852-892e-7e5ad267c30b"
      },
      "execution_count": 1,
      "outputs": [
        {
          "output_type": "error",
          "ename": "NameError",
          "evalue": "name 'X_test' is not defined",
          "traceback": [
            "\u001b[0;31m---------------------------------------------------------------------------\u001b[0m",
            "\u001b[0;31mNameError\u001b[0m                                 Traceback (most recent call last)",
            "\u001b[0;32m<ipython-input-1-af745cda2833>\u001b[0m in \u001b[0;36m<cell line: 15>\u001b[0;34m()\u001b[0m\n\u001b[1;32m     13\u001b[0m \u001b[0;31m# Prepare the input. Make sure it is in the right shape and type.\u001b[0m\u001b[0;34m\u001b[0m\u001b[0;34m\u001b[0m\u001b[0m\n\u001b[1;32m     14\u001b[0m \u001b[0minput_name\u001b[0m \u001b[0;34m=\u001b[0m \u001b[0msess\u001b[0m\u001b[0;34m.\u001b[0m\u001b[0mget_inputs\u001b[0m\u001b[0;34m(\u001b[0m\u001b[0;34m)\u001b[0m\u001b[0;34m[\u001b[0m\u001b[0;36m0\u001b[0m\u001b[0;34m]\u001b[0m\u001b[0;34m.\u001b[0m\u001b[0mname\u001b[0m\u001b[0;34m\u001b[0m\u001b[0;34m\u001b[0m\u001b[0m\n\u001b[0;32m---> 15\u001b[0;31m \u001b[0mX_onnx\u001b[0m \u001b[0;34m=\u001b[0m \u001b[0mX_test\u001b[0m\u001b[0;34m.\u001b[0m\u001b[0mastype\u001b[0m\u001b[0;34m(\u001b[0m\u001b[0mnp\u001b[0m\u001b[0;34m.\u001b[0m\u001b[0mfloat32\u001b[0m\u001b[0;34m)\u001b[0m  \u001b[0;31m# Assuming X_test is your test data array\u001b[0m\u001b[0;34m\u001b[0m\u001b[0;34m\u001b[0m\u001b[0m\n\u001b[0m\u001b[1;32m     16\u001b[0m \u001b[0;34m\u001b[0m\u001b[0m\n\u001b[1;32m     17\u001b[0m \u001b[0;31m# Run the model using ONNX runtime\u001b[0m\u001b[0;34m\u001b[0m\u001b[0;34m\u001b[0m\u001b[0m\n",
            "\u001b[0;31mNameError\u001b[0m: name 'X_test' is not defined"
          ]
        }
      ]
    },
    {
      "cell_type": "code",
      "source": [
        "def render_frames(actual, predicted):\n",
        "    \"\"\"Helper function to display two frames side by side: Actual and Predicted\"\"\"\n",
        "    plt.figure(figsize=(12, 6))\n",
        "\n",
        "    plt.subplot(1, 2, 1)\n",
        "    plt.title(\"Actual Next Frame\")\n",
        "    plt.imshow(actual, cmap='gray')\n",
        "    plt.axis('off')\n",
        "\n",
        "    plt.subplot(1, 2, 2)\n",
        "    plt.title(\"Predicted Next Frame\")\n",
        "    plt.imshow(predicted, cmap='gray')\n",
        "    plt.axis('off')\n",
        "\n",
        "    plt.show()\n",
        "\n",
        "for i in range(min(5, len(X_test))):  # Visualizing a few examples\n",
        "    actual_board = y_test[i].reshape(board_shape)\n",
        "    predicted_board = pred_classes[i].reshape(board_shape)\n",
        "    render_frames(actual_board, predicted_board)"
      ],
      "metadata": {
        "colab": {
          "base_uri": "https://localhost:8080/",
          "height": 1000
        },
        "id": "hRNIDoBAWwsz",
        "outputId": "78361919-327a-4e95-e269-5af74b983879"
      },
      "execution_count": null,
      "outputs": [
        {
          "output_type": "display_data",
          "data": {
            "text/plain": [
              "<Figure size 1200x600 with 2 Axes>"
            ],
            "image/png": "[encoded data removed]"
          },
          "metadata": {}
        },
        {
          "output_type": "display_data",
          "data": {
            "text/plain": [
              "<Figure size 1200x600 with 2 Axes>"
            ],
            "image/png": "[encoded data removed]"
          },
          "metadata": {}
        },
        {
          "output_type": "display_data",
          "data": {
            "text/plain": [
              "<Figure size 1200x600 with 2 Axes>"
            ],
            "image/png": "[encoded data removed]"
          },
          "metadata": {}
        },
        {
          "output_type": "display_data",
          "data": {
            "text/plain": [
              "<Figure size 1200x600 with 2 Axes>"
            ],
            "image/png": "[encoded data removed]"
          },
          "metadata": {}
        },
        {
          "output_type": "display_data",
          "data": {
            "text/plain": [
              "<Figure size 1200x600 with 2 Axes>"
            ],
            "image/png": "[encoded data removed]"
          },
          "metadata": {}
        }
      ]
    },
    {
      "cell_type": "code",
      "source": [
        "import numpy as np\n",
        "from scipy import signal\n",
        "from onnx import numpy_helper\n",
        "import onnx\n",
        "\n",
        "# Load ONNX model\n",
        "model_path = 'conway_game_of_life.onnx'  # Adjust the path as needed\n",
        "model = onnx.load(model_path)\n",
        "graph = model.graph\n",
        "\n",
        "# Load weights and biases into dictionaries\n",
        "weights = {}\n",
        "biases = {}\n",
        "for initializer in graph.initializer:\n",
        "    array = numpy_helper.to_array(initializer)\n",
        "    if 'bias' in initializer.name.lower():\n",
        "        biases[initializer.name] = array\n",
        "    else:\n",
        "        weights[initializer.name] = array\n",
        "\n",
        "# Define convolution function\n",
        "def conv2d(input_tensor, kernel, bias=None, stride=1, padding='valid'):\n",
        "    num_filters = kernel.shape[3]\n",
        "    output_height = input_tensor.shape[0] - kernel.shape[0] + 1\n",
        "    output_width = input_tensor.shape[1] - kernel.shape[1] + 1\n",
        "    conv_output = np.zeros((output_height, output_width, num_filters))\n",
        "\n",
        "    for f in range(num_filters):\n",
        "        # Perform convolution\n",
        "        conv_output[:, :, f] = signal.correlate2d(input_tensor[:, :, 0], kernel[:, :, 0, f], mode=padding)\n",
        "        # Add bias if provided\n",
        "        if bias is not None:\n",
        "            conv_output[:, :, f] += bias[f]\n",
        "\n",
        "    return conv_output\n",
        "\n",
        "# Define ReLU activation function\n",
        "def relu(x):\n",
        "    return np.maximum(0, x)\n",
        "\n",
        "# Define sigmoid activation function\n",
        "def sigmoid(x):\n",
        "    return 1 / (1 + np.exp(-x))\n",
        "\n",
        "# Define dense layer function\n",
        "def dense(input_tensor, weights, bias):\n",
        "    return np.dot(input_tensor, weights) + bias\n",
        "\n",
        "# Example input (initializing with a sample input)\n",
        "input_tensor = np.random.rand(20, 20, 1)  # Example input tensor shape [height, width, channels]\n",
        "\n",
        "# First Convolutional Layer\n",
        "conv1_weights = weights['sequential/conv2d/Conv2D/ReadVariableOp:0'].reshape(3, 3, 1, 50)  # Correct reshaping\n",
        "conv1_bias = biases['sequential/conv2d/BiasAdd/ReadVariableOp:0']\n",
        "conv1_output = conv2d(input_tensor, conv1_weights, conv1_bias)\n",
        "conv1_output = relu(conv1_output)  # Apply ReLU activation\n",
        "\n",
        "# Flatten output from Conv layer to feed into Dense layer\n",
        "conv1_flattened = conv1_output.reshape(-1)  # Flatten the output\n",
        "\n",
        "# First Dense Layer\n",
        "dense1_weights = weights['sequential/dense/Tensordot/ReadVariableOp:0']\n",
        "dense1_bias = biases['sequential/dense/BiasAdd/ReadVariableOp:0']\n",
        "dense1_output = dense(conv1_flattened, dense1_weights, dense1_bias)\n",
        "dense1_output = relu(dense1_output)  # Applying ReLU activation\n",
        "\n",
        "# Second Dense Layer\n",
        "dense2_weights = weights['sequential/dense_1/Tensordot/ReadVariableOp:0']\n",
        "dense2_bias = biases['sequential/dense_1/BiasAdd/ReadVariableOp:0']\n",
        "dense2_output = dense(dense1_output, dense2_weights, dense2_bias)\n",
        "final_output = sigmoid(dense2_output)  # Sigmoid activation for final output\n",
        "\n",
        "# Output the result\n",
        "print(\"Final output from custom runtime: \", final_output)"
      ],
      "metadata": {
        "colab": {
          "base_uri": "https://localhost:8080/",
          "height": 341
        },
        "id": "Fz08HqS1OzaV",
        "outputId": "dfb04ec1-cad7-4eaf-a0f7-9019f80f5044"
      },
      "execution_count": null,
      "outputs": [
        {
          "output_type": "error",
          "ename": "ValueError",
          "evalue": "shapes (16200,) and (50,100) not aligned: 16200 (dim 0) != 50 (dim 0)",
          "traceback": [
            "\u001b[0;31m---------------------------------------------------------------------------\u001b[0m",
            "\u001b[0;31mValueError\u001b[0m                                Traceback (most recent call last)",
            "\u001b[0;32m<ipython-input-23-c74a9c596906>\u001b[0m in \u001b[0;36m<cell line: 64>\u001b[0;34m()\u001b[0m\n\u001b[1;32m     62\u001b[0m \u001b[0mdense1_weights\u001b[0m \u001b[0;34m=\u001b[0m \u001b[0mweights\u001b[0m\u001b[0;34m[\u001b[0m\u001b[0;34m'sequential/dense/Tensordot/ReadVariableOp:0'\u001b[0m\u001b[0;34m]\u001b[0m\u001b[0;34m\u001b[0m\u001b[0;34m\u001b[0m\u001b[0m\n\u001b[1;32m     63\u001b[0m \u001b[0mdense1_bias\u001b[0m \u001b[0;34m=\u001b[0m \u001b[0mbiases\u001b[0m\u001b[0;34m[\u001b[0m\u001b[0;34m'sequential/dense/BiasAdd/ReadVariableOp:0'\u001b[0m\u001b[0;34m]\u001b[0m\u001b[0;34m\u001b[0m\u001b[0;34m\u001b[0m\u001b[0m\n\u001b[0;32m---> 64\u001b[0;31m \u001b[0mdense1_output\u001b[0m \u001b[0;34m=\u001b[0m \u001b[0mdense\u001b[0m\u001b[0;34m(\u001b[0m\u001b[0mconv1_flattened\u001b[0m\u001b[0;34m,\u001b[0m \u001b[0mdense1_weights\u001b[0m\u001b[0;34m,\u001b[0m \u001b[0mdense1_bias\u001b[0m\u001b[0;34m)\u001b[0m\u001b[0;34m\u001b[0m\u001b[0;34m\u001b[0m\u001b[0m\n\u001b[0m\u001b[1;32m     65\u001b[0m \u001b[0mdense1_output\u001b[0m \u001b[0;34m=\u001b[0m \u001b[0mrelu\u001b[0m\u001b[0;34m(\u001b[0m\u001b[0mdense1_output\u001b[0m\u001b[0;34m)\u001b[0m  \u001b[0;31m# Applying ReLU activation\u001b[0m\u001b[0;34m\u001b[0m\u001b[0;34m\u001b[0m\u001b[0m\n\u001b[1;32m     66\u001b[0m \u001b[0;34m\u001b[0m\u001b[0m\n",
            "\u001b[0;32m<ipython-input-23-c74a9c596906>\u001b[0m in \u001b[0;36mdense\u001b[0;34m(input_tensor, weights, bias)\u001b[0m\n\u001b[1;32m     45\u001b[0m \u001b[0;31m# Define dense layer function\u001b[0m\u001b[0;34m\u001b[0m\u001b[0;34m\u001b[0m\u001b[0m\n\u001b[1;32m     46\u001b[0m \u001b[0;32mdef\u001b[0m \u001b[0mdense\u001b[0m\u001b[0;34m(\u001b[0m\u001b[0minput_tensor\u001b[0m\u001b[0;34m,\u001b[0m \u001b[0mweights\u001b[0m\u001b[0;34m,\u001b[0m \u001b[0mbias\u001b[0m\u001b[0;34m)\u001b[0m\u001b[0;34m:\u001b[0m\u001b[0;34m\u001b[0m\u001b[0;34m\u001b[0m\u001b[0m\n\u001b[0;32m---> 47\u001b[0;31m     \u001b[0;32mreturn\u001b[0m \u001b[0mnp\u001b[0m\u001b[0;34m.\u001b[0m\u001b[0mdot\u001b[0m\u001b[0;34m(\u001b[0m\u001b[0minput_tensor\u001b[0m\u001b[0;34m,\u001b[0m \u001b[0mweights\u001b[0m\u001b[0;34m)\u001b[0m \u001b[0;34m+\u001b[0m \u001b[0mbias\u001b[0m\u001b[0;34m\u001b[0m\u001b[0;34m\u001b[0m\u001b[0m\n\u001b[0m\u001b[1;32m     48\u001b[0m \u001b[0;34m\u001b[0m\u001b[0m\n\u001b[1;32m     49\u001b[0m \u001b[0;31m# Example input (initializing with a sample input)\u001b[0m\u001b[0;34m\u001b[0m\u001b[0;34m\u001b[0m\u001b[0m\n",
            "\u001b[0;31mValueError\u001b[0m: shapes (16200,) and (50,100) not aligned: 16200 (dim 0) != 50 (dim 0)"
          ]
        }
      ]
    },
    {
      "cell_type": "code",
      "source": [
        "import onnx\n",
        "\n",
        "# Load the ONNX model\n",
        "model_path = '/content/conway_game_of_life.onnx'\n",
        "model = onnx.load(model_path)\n",
        "\n",
        "# Print all initializers (weights and biases usually reside here)\n",
        "print(\"Initializers in the ONNX model:\")\n",
        "for init in model.graph.initializer:\n",
        "    print(init.name)"
      ],
      "metadata": {
        "colab": {
          "base_uri": "https://localhost:8080/"
        },
        "id": "Prfz40hihVdl",
        "outputId": "262a1ecf-f3ca-4b02-c3ed-483dfdadb49f"
      },
      "execution_count": 11,
      "outputs": [
        {
          "output_type": "stream",
          "name": "stdout",
          "text": [
            "Initializers in the ONNX model:\n",
            "sequential_3/dense_4/Tensordot/Reshape_shape__68\n",
            "sequential_3/dense_4/Tensordot/ReadVariableOp:0\n",
            "sequential_3/dense_4/Tensordot/Const_2:0\n",
            "sequential_3/dense_4/BiasAdd/ReadVariableOp:0\n",
            "sequential_3/dense_3/Tensordot/free:0\n",
            "sequential_3/dense_3/Tensordot/axes:0\n",
            "sequential_3/dense_3/Tensordot/ReadVariableOp:0\n",
            "sequential_3/dense_3/Tensordot/Const_2:0\n",
            "sequential_3/dense_3/BiasAdd/ReadVariableOp:0\n",
            "sequential_3/conv2d_2/Conv2D/ReadVariableOp:0\n",
            "sequential_3/conv2d_2/BiasAdd/ReadVariableOp:0\n",
            "new_shape__67\n",
            "Const__65\n"
          ]
        }
      ]
    },
    {
      "cell_type": "code",
      "source": [
        "import onnx\n",
        "from onnx import numpy_helper\n",
        "\n",
        "# Load the ONNX model\n",
        "model_path = '/content/conway_game_of_life.onnx'# Update this path to your actual ONNX model file\n",
        "model = onnx.load(model_path)\n",
        "\n",
        "# Initialize variables for weights and biases\n",
        "weights = None\n",
        "bias = None\n",
        "\n",
        "# Extract weights and biases based on their names\n",
        "for init in model.graph.initializer:\n",
        "    if init.name == \"sequential_3/conv2d_2/Conv2D/ReadVariableOp:0\":\n",
        "        weights = numpy_helper.to_array(init)\n",
        "    elif init.name == \"sequential_3/conv2d_2/BiasAdd/ReadVariableOp:0\":\n",
        "        bias = numpy_helper.to_array(init)\n",
        "\n",
        "# Ensure weights and biases were loaded\n",
        "assert weights is not None and bias is not None, \"Failed to load weights and/or bias.\"\n",
        "\n",
        "# Check the shapes of the loaded weights and biases\n",
        "print(\"Weights loaded successfully, shape:\", weights.shape)\n",
        "print(\"Bias loaded successfully, shape:\", bias.shape)\n"
      ],
      "metadata": {
        "colab": {
          "base_uri": "https://localhost:8080/"
        },
        "id": "nEx_K4zRh7LZ",
        "outputId": "39226a3c-045b-43ab-eb31-4cb6d662858a"
      },
      "execution_count": 12,
      "outputs": [
        {
          "output_type": "stream",
          "name": "stdout",
          "text": [
            "Weights loaded successfully, shape: (50, 1, 3, 3)\n",
            "Bias loaded successfully, shape: (50,)\n"
          ]
        }
      ]
    },
    {
      "cell_type": "code",
      "source": [
        "import numpy as np\n",
        "import onnx\n",
        "from onnx import numpy_helper\n",
        "from scipy.signal import convolve2d\n",
        "import matplotlib.pyplot as plt\n",
        "\n",
        "# Load the ONNX model\n",
        "model_path = '/content/conway_game_of_life.onnx'# Update this path to your actual ONNX model file\n",
        "model = onnx.load(model_path)\n",
        "\n",
        "# Initialize variables for weights and biases\n",
        "weights = None\n",
        "bias = None\n",
        "\n",
        "# Extract weights and biases based on their names\n",
        "for init in model.graph.initializer:\n",
        "    if init.name == \"sequential_3/conv2d_2/Conv2D/ReadVariableOp:0\":\n",
        "        weights = numpy_helper.to_array(init)\n",
        "    elif init.name == \"sequential_3/conv2d_2/BiasAdd/ReadVariableOp:0\":\n",
        "        bias = numpy_helper.to_array(init)\n",
        "\n",
        "# Ensure weights and biases were loaded\n",
        "assert weights is not None and bias is not None, \"Failed to load weights and/or bias.\"\n",
        "\n",
        "def manual_convolution(input_data, weights, bias):\n",
        "    num_filters = weights.shape[0]\n",
        "    filter_height, filter_width = weights.shape[2], weights.shape[3]\n",
        "    batch_size, in_height, in_width, in_channels = input_data.shape\n",
        "\n",
        "    # Calculate the padding needed to achieve 'same' convolution output size\n",
        "    pad_height = max(0, (in_height - 1) * 1 + filter_height - in_height) // 2\n",
        "    pad_width = max(0, (in_width - 1) * 1 + filter_width - in_width) // 2\n",
        "\n",
        "    # Pad the input array\n",
        "    padded_input = np.pad(input_data, ((0, 0), (pad_height, pad_height), (pad_width, pad_width), (0, 0)), 'constant', constant_values=(0, 0))\n",
        "\n",
        "    # Initialize the output array to store convolution results\n",
        "    output = np.zeros((batch_size, in_height, in_width, num_filters))\n",
        "\n",
        "    for b in range(batch_size):  # Batch size loop\n",
        "        for f in range(num_filters):  # Filter loop\n",
        "            for c in range(in_channels):  # Channel loop\n",
        "                # Apply convolution\n",
        "                full_conv = convolve2d(padded_input[b, :, :, c], weights[f, c, :, :], mode='full')\n",
        "                # Crop to maintain the same output size\n",
        "                crop_start = (full_conv.shape[0] - in_height) // 2\n",
        "                crop_end = crop_start + in_height\n",
        "                conv_output = full_conv[crop_start:crop_end, crop_start:crop_end]\n",
        "                output[b, :, :, f] += conv_output\n",
        "\n",
        "            # Add bias\n",
        "            output[b, :, :, f] += bias[f]\n",
        "\n",
        "    return output[:, :, :, 0]  # Simplifying to return the first filter's output for all examples\n",
        "\n",
        "# Example usage:\n",
        "input_data = np.random.rand(1, 20, 20, 1)  # Example input data, 1 example of 20x20 size\n",
        "convolved_output = manual_convolution(input_data, weights, bias)\n",
        "\n",
        "# Display results\n",
        "plt.imshow(convolved_output[0], cmap='gray')\n",
        "plt.title(\"Convolved Output\")\n",
        "plt.colorbar()\n",
        "plt.show()"
      ],
      "metadata": {
        "colab": {
          "base_uri": "https://localhost:8080/",
          "height": 452
        },
        "id": "mxEsCOSToXtA",
        "outputId": "6fa8eb53-9e65-4424-daed-0cfd329f5e61"
      },
      "execution_count": 33,
      "outputs": [
        {
          "output_type": "display_data",
          "data": {
            "text/plain": [
              "<Figure size 640x480 with 2 Axes>"
            ],
            "image/png": "[encoded data removed]"
          },
          "metadata": {}
        }
      ]
    },
    {
      "cell_type": "code",
      "source": [
        "import numpy as np\n",
        "import matplotlib.pyplot as plt\n",
        "from scipy.signal import convolve2d\n",
        "\n",
        "def manual_convolution(input_data, weights, bias):\n",
        "    num_filters = weights.shape[0]\n",
        "    filter_height, filter_width = weights.shape[2], weights.shape[3]\n",
        "    batch_size, in_height, in_width, in_channels = input_data.shape\n",
        "\n",
        "    # Calculate necessary padding to maintain 'same' output size\n",
        "    padding_height = (filter_height - 1) // 2\n",
        "    padding_width = (filter_width - 1) // 2\n",
        "\n",
        "    # Pad input to maintain output size\n",
        "    padded_input = np.pad(input_data,\n",
        "                          ((0, 0), (padding_height, padding_height), (padding_width, padding_width), (0, 0)),\n",
        "                          mode='constant', constant_values=0)\n",
        "\n",
        "    output = np.zeros((batch_size, in_height, in_width, num_filters))\n",
        "\n",
        "    for b in range(batch_size):  # Process each item in the batch\n",
        "        for f in range(num_filters):  # Process each filter\n",
        "            for c in range(in_channels):  # Process each channel\n",
        "                # Perform convolution\n",
        "                full_conv = convolve2d(padded_input[b, :, :, c], weights[f, c, :, :], mode='full')\n",
        "                # Calculate start indices for cropping\n",
        "                start_row = (full_conv.shape[0] - in_height) // 2\n",
        "                start_col = (full_conv.shape[1] - in_width) // 2\n",
        "                # Crop to match the input size\n",
        "                conv_output = full_conv[start_row:start_row+in_height, start_col:start_col+in_width]\n",
        "                output[b, :, :, f] += conv_output\n",
        "\n",
        "            # Add bias to each filter's output\n",
        "            output[b, :, :, f] += bias[f]\n",
        "\n",
        "    return output[:, :, :, 0]  # Returning first filter's output for simplicity"
      ],
      "metadata": {
        "id": "Z6hiYhmYqobH"
      },
      "execution_count": 37,
      "outputs": []
    },
    {
      "cell_type": "code",
      "source": [
        "# Assuming the output needs to match (20, 20) board shape\n",
        "board_shape = (20, 20)\n",
        "\n",
        "# Apply convolution to the input dataset\n",
        "pred_classes = [manual_convolution(X_test[i:i+1], weights, bias)[0] for i in range(len(X_test))]\n",
        "\n",
        "# Display the actual and predicted boards\n",
        "for i in range(min(5, len(X_test))):\n",
        "    actual_board = y_test[i].reshape(board_shape)\n",
        "    predicted_board = pred_classes[i].reshape(board_shape)\n",
        "    render_frames(actual_board, predicted_board)"
      ],
      "metadata": {
        "colab": {
          "base_uri": "https://localhost:8080/",
          "height": 1000
        },
        "id": "h8ta73yxrHSG",
        "outputId": "3182f248-d0eb-45d3-9aa2-07e8f91e9fb8"
      },
      "execution_count": 38,
      "outputs": [
        {
          "output_type": "display_data",
          "data": {
            "text/plain": [
              "<Figure size 1200x600 with 2 Axes>"
            ],
            "image/png": "[encoded data removed]"
          },
          "metadata": {}
        },
        {
          "output_type": "display_data",
          "data": {
            "text/plain": [
              "<Figure size 1200x600 with 2 Axes>"
            ],
            "image/png": "[encoded data removed]"
          },
          "metadata": {}
        },
        {
          "output_type": "display_data",
          "data": {
            "text/plain": [
              "<Figure size 1200x600 with 2 Axes>"
            ],
            "image/png": "[encoded data removed]"
          },
          "metadata": {}
        },
        {
          "output_type": "display_data",
          "data": {
            "text/plain": [
              "<Figure size 1200x600 with 2 Axes>"
            ],
            "image/png": "[encoded data removed]"
          },
          "metadata": {}
        },
        {
          "output_type": "display_data",
          "data": {
            "text/plain": [
              "<Figure size 1200x600 with 2 Axes>"
            ],
            "image/png": "[encoded data removed]"
          },
          "metadata": {}
        }
      ]
    },
    {
      "cell_type": "code",
      "source": [
        "def manual_convolution(input_data, weights, bias):\n",
        "    num_filters = weights.shape[0]\n",
        "    filter_height = weights.shape[2]\n",
        "    filter_width = weights.shape[3]\n",
        "    padding_height = filter_height // 2\n",
        "    padding_width = filter_width // 2\n",
        "\n",
        "    batch_size, input_height, input_width, input_channels = input_data.shape\n",
        "\n",
        "    # Apply padding to maintain the size after convolution\n",
        "    padded_input = np.pad(input_data, ((0, 0), (padding_height, padding_height), (padding_width, padding_width), (0, 0)), mode='constant', constant_values=0)\n",
        "\n",
        "    output_height = input_height\n",
        "    output_width = input_width\n",
        "    output = np.zeros((batch_size, output_height, output_width, num_filters))\n",
        "\n",
        "    for b in range(batch_size):\n",
        "        for f in range(num_filters):\n",
        "            for c in range(input_channels):\n",
        "                kernel_flipped = weights[f, c, ::-1, ::-1]\n",
        "                # Ensuring output size is the same as input size using 'full' and cropping\n",
        "                full_conv_output = convolve2d(padded_input[b, :, :, c], kernel_flipped, mode='full')\n",
        "                start_index = (full_conv_output.shape[0] - output_height) // 2\n",
        "                conv_output = full_conv_output[start_index:start_index + output_height, start_index:start_index + output_width]\n",
        "                output[b, :, :, f] += conv_output\n",
        "            output[b, :, :, f] += bias[f]\n",
        "\n",
        "    return output[:, :, :, 0]  # Assume you want the first filter's output\n",
        "\n",
        "X_test = X_test.astype(np.float32)  # Assuming X_test is your test data array\n",
        "\n",
        "# Generate predictions\n",
        "pred_classes = [manual_convolution(X_test[i:i+1], weights, bias) for i in range(len(X_test))]\n",
        "\n",
        "# Apply threshold\n",
        "def apply_threshold(predictions, threshold=0.5):\n",
        "    return (predictions > threshold).astype(int)\n",
        "\n",
        "pred_classes_binary = [apply_threshold(pred) for pred in pred_classes]\n",
        "\n",
        "# Display the results\n",
        "for i in range(min(5, len(X_test))):\n",
        "    actual_board = y_test[i].reshape(board_shape)\n",
        "    predicted_board = pred_classes_binary[i].reshape(board_shape)\n",
        "    render_frames(actual_board, predicted_board)\n"
      ],
      "metadata": {
        "colab": {
          "base_uri": "https://localhost:8080/",
          "height": 1000
        },
        "id": "qA7BCqvHvNo-",
        "outputId": "db2a2587-c0af-4bc6-bf27-f5134e57a687"
      },
      "execution_count": 43,
      "outputs": [
        {
          "output_type": "display_data",
          "data": {
            "text/plain": [
              "<Figure size 1200x600 with 2 Axes>"
            ],
            "image/png": "[encoded data removed]"
          },
          "metadata": {}
        },
        {
          "output_type": "display_data",
          "data": {
            "text/plain": [
              "<Figure size 1200x600 with 2 Axes>"
            ],
            "image/png": "[encoded data removed]"
          },
          "metadata": {}
        },
        {
          "output_type": "display_data",
          "data": {
            "text/plain": [
              "<Figure size 1200x600 with 2 Axes>"
            ],
            "image/png": "[encoded data removed]"
          },
          "metadata": {}
        },
        {
          "output_type": "display_data",
          "data": {
            "text/plain": [
              "<Figure size 1200x600 with 2 Axes>"
            ],
            "image/png": "[encoded data removed]"
          },
          "metadata": {}
        },
        {
          "output_type": "display_data",
          "data": {
            "text/plain": [
              "<Figure size 1200x600 with 2 Axes>"
            ],
            "image/png": "[encoded data removed]"
          },
          "metadata": {}
        }
      ]
    },
    {
      "cell_type": "code",
      "source": [
        "# Debug: Print raw convolution output for the first few test cases\n",
        "for i in range(min(5, len(X_test))):\n",
        "    conv_output = manual_convolution(X_test[i:i+1], weights, bias)\n",
        "    print(f\"Raw output (sample {i}): Min={np.min(conv_output)}, Max={np.max(conv_output)}, Mean={np.mean(conv_output)}\")"
      ],
      "metadata": {
        "colab": {
          "base_uri": "https://localhost:8080/"
        },
        "id": "FMJTD24xy7z9",
        "outputId": "a0fb8db1-90f1-42d8-9480-91e1b410212a"
      },
      "execution_count": 49,
      "outputs": [
        {
          "output_type": "stream",
          "name": "stdout",
          "text": [
            "Raw output (sample 0): Min=-0.4358629807829857, Max=0.23632559925317764, Mean=0.0054942405596375464\n",
            "Raw output (sample 1): Min=-0.45955999940633774, Max=0.29404399544000626, Mean=-0.007477294225245714\n",
            "Raw output (sample 2): Min=-0.45955999940633774, Max=0.21241731196641922, Mean=0.01616119537502527\n",
            "Raw output (sample 3): Min=-0.3897964581847191, Max=0.29404399544000626, Mean=0.014949056766927243\n",
            "Raw output (sample 4): Min=-0.49784430116415024, Max=0.23632559925317764, Mean=-0.01336897324770689\n"
          ]
        }
      ]
    },
    {
      "cell_type": "code",
      "source": [
        "# Adjust the threshold and see the effects\n",
        "adjusted_threshold = 0.1  # Example of a lower threshold\n",
        "pred_classes_binary = [apply_threshold(pred, threshold=adjusted_threshold) for pred in pred_classes]\n"
      ],
      "metadata": {
        "id": "9PQRUD2vyq7Y"
      },
      "execution_count": 46,
      "outputs": []
    },
    {
      "cell_type": "code",
      "source": [
        "def sigmoid(x):\n",
        "    return 1 / (1 + np.exp(-x))\n",
        "\n",
        "# Apply sigmoid before thresholding\n",
        "pred_classes_sigmoid = [sigmoid(pred) for pred in pred_classes]\n",
        "pred_classes_binary = [apply_threshold(pred, threshold=0.5) for pred in pred_classes_sigmoid]\n"
      ],
      "metadata": {
        "id": "I0RuKq5Xyu-I"
      },
      "execution_count": 47,
      "outputs": []
    },
    {
      "cell_type": "code",
      "source": [
        "# Assuming all functions and imports are defined as previously\n",
        "\n",
        "# Generate predictions and apply sigmoid if needed\n",
        "pred_classes = [manual_convolution(X_test[i:i+1], weights, bias) for i in range(len(X_test))]\n",
        "pred_classes_sigmoid = [sigmoid(pred) for pred in pred_classes]\n",
        "\n",
        "# Adjust threshold and convert predictions to binary\n",
        "pred_classes_binary = [apply_threshold(pred, threshold=0.5) for pred in pred_classes_sigmoid]\n",
        "\n",
        "# Display the results with debugging info\n",
        "for i in range(min(5, len(X_test))):\n",
        "    actual_board = y_test[i].reshape(board_shape)\n",
        "    predicted_board = pred_classes_binary[i].reshape(board_shape)\n",
        "    print(f\"Debug info for sample {i}: Min={np.min(pred_classes_sigmoid[i])}, Max={np.max(pred_classes_sigmoid[i])}\")\n",
        "    render_frames(actual_board, predicted_board)\n"
      ],
      "metadata": {
        "colab": {
          "base_uri": "https://localhost:8080/",
          "height": 1000
        },
        "id": "e_Lcqt5ayGE0",
        "outputId": "591398c7-840d-4b18-9227-e1d800e4f982"
      },
      "execution_count": 48,
      "outputs": [
        {
          "output_type": "stream",
          "name": "stdout",
          "text": [
            "Debug info for sample 0: Min=0.39272717840574606, Max=0.5588079532629225\n"
          ]
        },
        {
          "output_type": "display_data",
          "data": {
            "text/plain": [
              "<Figure size 1200x600 with 2 Axes>"
            ],
            "image/png": "[encoded data removed]"
          },
          "metadata": {}
        },
        {
          "output_type": "stream",
          "name": "stdout",
          "text": [
            "Debug info for sample 1: Min=0.387090209420758, Max=0.5729858804551733\n"
          ]
        },
        {
          "output_type": "display_data",
          "data": {
            "text/plain": [
              "<Figure size 1200x600 with 2 Axes>"
            ],
            "image/png": "[encoded data removed]"
          },
          "metadata": {}
        },
        {
          "output_type": "stream",
          "name": "stdout",
          "text": [
            "Debug info for sample 2: Min=0.387090209420758, Max=0.5529055476574981\n"
          ]
        },
        {
          "output_type": "display_data",
          "data": {
            "text/plain": [
              "<Figure size 1200x600 with 2 Axes>"
            ],
            "image/png": "[encoded data removed]"
          },
          "metadata": {}
        },
        {
          "output_type": "stream",
          "name": "stdout",
          "text": [
            "Debug info for sample 3: Min=0.40376630021160076, Max=0.5729858804551733\n"
          ]
        },
        {
          "output_type": "display_data",
          "data": {
            "text/plain": [
              "<Figure size 1200x600 with 2 Axes>"
            ],
            "image/png": "[encoded data removed]"
          },
          "metadata": {}
        },
        {
          "output_type": "stream",
          "name": "stdout",
          "text": [
            "Debug info for sample 4: Min=0.37804739960027833, Max=0.5588079532629225\n"
          ]
        },
        {
          "output_type": "display_data",
          "data": {
            "text/plain": [
              "<Figure size 1200x600 with 2 Axes>"
            ],
            "image/png": "[encoded data removed]"
          },
          "metadata": {}
        }
      ]
    },
    {
      "cell_type": "markdown",
      "source": [
        "**Simple Linear regression with onnx backend using operators**"
      ],
      "metadata": {
        "id": "STzk9-3pYiXA"
      }
    },
    {
      "cell_type": "code",
      "source": [
        "import tensorflow as tf\n",
        "\n",
        "# Define a simple linear model\n",
        "model = tf.keras.Sequential([\n",
        "    tf.keras.layers.Dense(1, input_shape=(1,))\n",
        "])\n",
        "\n",
        "model.compile(optimizer='sgd', loss='mean_squared_error')\n",
        "model.summary()\n",
        "\n",
        "# Train the model with some example data (e.g., y = 2x + 1)\n",
        "import numpy as np\n",
        "x = np.array([-1.0, 0, 1, 2, 3, 4], dtype=float)\n",
        "y = np.array([-1.0, 1, 3, 5, 7, 9], dtype=float)\n",
        "\n",
        "model.fit(x, y, epochs=500, verbose=0)"
      ],
      "metadata": {
        "colab": {
          "base_uri": "https://localhost:8080/"
        },
        "id": "zDSQ6uefWC-P",
        "outputId": "67dd5b79-74a6-42c7-d604-713caa29736f"
      },
      "execution_count": 1,
      "outputs": [
        {
          "output_type": "stream",
          "name": "stdout",
          "text": [
            "Model: \"sequential\"\n",
            "_________________________________________________________________\n",
            " Layer (type)                Output Shape              Param #   \n",
            "=================================================================\n",
            " dense (Dense)               (None, 1)                 2         \n",
            "                                                                 \n",
            "=================================================================\n",
            "Total params: 2 (8.00 Byte)\n",
            "Trainable params: 2 (8.00 Byte)\n",
            "Non-trainable params: 0 (0.00 Byte)\n",
            "_________________________________________________________________\n"
          ]
        },
        {
          "output_type": "execute_result",
          "data": {
            "text/plain": [
              "<keras.src.callbacks.History at 0x7f756e70abc0>"
            ]
          },
          "metadata": {},
          "execution_count": 1
        }
      ]
    },
    {
      "cell_type": "code",
      "source": [
        "# !pip install tf2onnx\n",
        "\n",
        "import tf2onnx\n",
        "\n",
        "# Convert model to ONNX\n",
        "input_signature = [tf.TensorSpec([None, 1], tf.float32, name='input')]\n",
        "onnx_model, _ = tf2onnx.convert.from_keras(model, input_signature=input_signature, opset=13)\n",
        "with open(\"linear_model.onnx\", \"wb\") as f:\n",
        "    f.write(onnx_model.SerializeToString())"
      ],
      "metadata": {
        "colab": {
          "base_uri": "https://localhost:8080/"
        },
        "id": "31VjrFlVWY3Z",
        "outputId": "9038be7f-3fe1-419a-8aa3-b53534068666"
      },
      "execution_count": 3,
      "outputs": [
        {
          "output_type": "stream",
          "name": "stdout",
          "text": [
            "Collecting tf2onnx\n",
            "  Downloading tf2onnx-1.16.1-py3-none-any.whl (455 kB)\n",
            "\u001b[2K     \u001b[90m━━━━━━━━━━━━━━━━━━━━━━━━━━━━━━━━━━━━━━━━\u001b[0m \u001b[32m455.8/455.8 kB\u001b[0m \u001b[31m6.8 MB/s\u001b[0m eta \u001b[36m0:00:00\u001b[0m\n",
            "\u001b[?25hRequirement already satisfied: numpy>=1.14.1 in /usr/local/lib/python3.10/dist-packages (from tf2onnx) (1.25.2)\n",
            "Collecting onnx>=1.4.1 (from tf2onnx)\n",
            "  Downloading onnx-1.16.0-cp310-cp310-manylinux_2_17_x86_64.manylinux2014_x86_64.whl (15.9 MB)\n",
            "\u001b[2K     \u001b[90m━━━━━━━━━━━━━━━━━━━━━━━━━━━━━━━━━━━━━━━━\u001b[0m \u001b[32m15.9/15.9 MB\u001b[0m \u001b[31m72.4 MB/s\u001b[0m eta \u001b[36m0:00:00\u001b[0m\n",
            "\u001b[?25hRequirement already satisfied: requests in /usr/local/lib/python3.10/dist-packages (from tf2onnx) (2.31.0)\n",
            "Requirement already satisfied: six in /usr/local/lib/python3.10/dist-packages (from tf2onnx) (1.16.0)\n",
            "Requirement already satisfied: flatbuffers>=1.12 in /usr/local/lib/python3.10/dist-packages (from tf2onnx) (24.3.25)\n",
            "Requirement already satisfied: protobuf~=3.20 in /usr/local/lib/python3.10/dist-packages (from tf2onnx) (3.20.3)\n",
            "Requirement already satisfied: charset-normalizer<4,>=2 in /usr/local/lib/python3.10/dist-packages (from requests->tf2onnx) (3.3.2)\n",
            "Requirement already satisfied: idna<4,>=2.5 in /usr/local/lib/python3.10/dist-packages (from requests->tf2onnx) (3.7)\n",
            "Requirement already satisfied: urllib3<3,>=1.21.1 in /usr/local/lib/python3.10/dist-packages (from requests->tf2onnx) (2.0.7)\n",
            "Requirement already satisfied: certifi>=2017.4.17 in /usr/local/lib/python3.10/dist-packages (from requests->tf2onnx) (2024.2.2)\n",
            "Installing collected packages: onnx, tf2onnx\n",
            "Successfully installed onnx-1.16.0 tf2onnx-1.16.1\n"
          ]
        }
      ]
    },
    {
      "cell_type": "code",
      "source": [
        "import onnx\n",
        "import numpy as np\n",
        "\n",
        "# Load ONNX model\n",
        "onnx_model = onnx.load(\"linear_model.onnx\")\n",
        "\n",
        "# Extract model information\n",
        "# Assume the model is very simple: just one linear layer\n",
        "weights = onnx.numpy_helper.to_array(onnx_model.graph.initializer[0])\n",
        "bias = onnx.numpy_helper.to_array(onnx_model.graph.initializer[1])\n",
        "\n",
        "def run_onnx_backend(input_data):\n",
        "    # Compute the linear transformation manually\n",
        "    return np.dot(input_data, weights.T) + bias\n",
        "\n",
        "# Test the backend with example data\n",
        "input_data = np.array([[10]], dtype=np.float32)\n",
        "output = run_onnx_backend(input_data)\n",
        "print(\"Predicted output:\", output)"
      ],
      "metadata": {
        "colab": {
          "base_uri": "https://localhost:8080/"
        },
        "id": "y-dIGz1gYBFv",
        "outputId": "663c74f2-a14b-447c-9f39-7f40c29dba54"
      },
      "execution_count": 4,
      "outputs": [
        {
          "output_type": "stream",
          "name": "stdout",
          "text": [
            "Predicted output: [[20.999018]]\n"
          ]
        }
      ]
    },
    {
      "cell_type": "code",
      "source": [
        "# !pip install -q netron\n",
        "import netron\n",
        "import portpicker\n",
        "from google.colab import output\n",
        "\n",
        "port = portpicker.pick_unused_port()\n",
        "\n",
        "# Read the model file and start the netron browser.\n",
        "with output.temporary():\n",
        "  netron.start('/content/linear_model.onnx', port, browse=False)\n",
        "\n",
        "output.serve_kernel_port_as_iframe(port, height='800')"
      ],
      "metadata": {
        "colab": {
          "base_uri": "https://localhost:8080/",
          "height": 839
        },
        "outputId": "11488332-cabb-4fd7-b8f6-a25f3ec0f90b",
        "id": "Yxsnj7eOZa8Z"
      },
      "execution_count": 7,
      "outputs": [
        {
          "output_type": "stream",
          "name": "stdout",
          "text": [
            "\u001b[2K     \u001b[90m━━━━━━━━━━━━━━━━━━━━━━━━━━━━━━━━━━━━━━━━\u001b[0m \u001b[32m1.7/1.7 MB\u001b[0m \u001b[31m10.1 MB/s\u001b[0m eta \u001b[36m0:00:00\u001b[0m\n",
            "\u001b[?25h"
          ]
        },
        {
          "output_type": "display_data",
          "data": {
            "text/plain": [
              "<IPython.core.display.Javascript object>"
            ],
            "application/javascript": [
              "(async (port, path, width, height, cache, element) => {\n",
              "    if (!google.colab.kernel.accessAllowed && !cache) {\n",
              "      return;\n",
              "    }\n",
              "    element.appendChild(document.createTextNode(''));\n",
              "    const url = await google.colab.kernel.proxyPort(port, {cache});\n",
              "    const iframe = document.createElement('iframe');\n",
              "    iframe.src = new URL(path, url).toString();\n",
              "    iframe.height = height;\n",
              "    iframe.width = width;\n",
              "    iframe.style.border = 0;\n",
              "    iframe.allow = [\n",
              "        'accelerometer',\n",
              "        'autoplay',\n",
              "        'camera',\n",
              "        'clipboard-read',\n",
              "        'clipboard-write',\n",
              "        'gyroscope',\n",
              "        'magnetometer',\n",
              "        'microphone',\n",
              "        'serial',\n",
              "        'usb',\n",
              "        'xr-spatial-tracking',\n",
              "    ].join('; ');\n",
              "    element.appendChild(iframe);\n",
              "  })(46341, \"/\", \"100%\", \"800\", false, window.element)"
            ]
          },
          "metadata": {}
        }
      ]
    },
    {
      "cell_type": "markdown",
      "source": [
        "**Simple CNN with onnx backend using operators**"
      ],
      "metadata": {
        "id": "dkrHzSZOYv48"
      }
    },
    {
      "cell_type": "code",
      "source": [
        "import tensorflow as tf\n",
        "\n",
        "# Define a simple CNN model\n",
        "model = tf.keras.Sequential([\n",
        "    tf.keras.layers.Conv2D(16, (3, 3), activation='relu', input_shape=(28, 28, 1)),\n",
        "    tf.keras.layers.MaxPooling2D(2, 2),\n",
        "    tf.keras.layers.Flatten(),\n",
        "    tf.keras.layers.Dense(10, activation='softmax')  # Assume 10 classes\n",
        "])\n",
        "\n",
        "model.compile(optimizer='adam', loss='sparse_categorical_crossentropy', metrics=['accuracy'])\n",
        "model.summary()\n",
        "\n",
        "# Train the model with some example data (e.g., MNIST)\n",
        "mnist = tf.keras.datasets.mnist\n",
        "(train_images, train_labels), (_, _) = mnist.load_data()\n",
        "train_images = train_images.reshape((train_images.shape[0], 28, 28, 1)).astype('float32') / 255\n",
        "\n",
        "model.fit(train_images, train_labels, epochs=5, verbose=2)  # Train for 5 epochs"
      ],
      "metadata": {
        "colab": {
          "base_uri": "https://localhost:8080/"
        },
        "id": "1sBNrJfgYuqY",
        "outputId": "d337dc45-0ea0-4adc-eb0d-5a416eef1c94"
      },
      "execution_count": 5,
      "outputs": [
        {
          "output_type": "stream",
          "name": "stdout",
          "text": [
            "Model: \"sequential_1\"\n",
            "_________________________________________________________________\n",
            " Layer (type)                Output Shape              Param #   \n",
            "=================================================================\n",
            " conv2d (Conv2D)             (None, 26, 26, 16)        160       \n",
            "                                                                 \n",
            " max_pooling2d (MaxPooling2  (None, 13, 13, 16)        0         \n",
            " D)                                                              \n",
            "                                                                 \n",
            " flatten (Flatten)           (None, 2704)              0         \n",
            "                                                                 \n",
            " dense_1 (Dense)             (None, 10)                27050     \n",
            "                                                                 \n",
            "=================================================================\n",
            "Total params: 27210 (106.29 KB)\n",
            "Trainable params: 27210 (106.29 KB)\n",
            "Non-trainable params: 0 (0.00 Byte)\n",
            "_________________________________________________________________\n",
            "Downloading data from https://storage.googleapis.com/tensorflow/tf-keras-datasets/mnist.npz\n",
            "11490434/11490434 [==============================] - 0s 0us/step\n",
            "Epoch 1/5\n",
            "1875/1875 - 21s - loss: 0.2481 - accuracy: 0.9322 - 21s/epoch - 11ms/step\n",
            "Epoch 2/5\n",
            "1875/1875 - 18s - loss: 0.0956 - accuracy: 0.9734 - 18s/epoch - 10ms/step\n",
            "Epoch 3/5\n",
            "1875/1875 - 15s - loss: 0.0719 - accuracy: 0.9789 - 15s/epoch - 8ms/step\n",
            "Epoch 4/5\n",
            "1875/1875 - 16s - loss: 0.0591 - accuracy: 0.9830 - 16s/epoch - 8ms/step\n",
            "Epoch 5/5\n",
            "1875/1875 - 16s - loss: 0.0509 - accuracy: 0.9847 - 16s/epoch - 9ms/step\n"
          ]
        },
        {
          "output_type": "execute_result",
          "data": {
            "text/plain": [
              "<keras.src.callbacks.History at 0x7f7566f19360>"
            ]
          },
          "metadata": {},
          "execution_count": 5
        }
      ]
    },
    {
      "cell_type": "code",
      "source": [
        "import tf2onnx\n",
        "\n",
        "# Convert model to ONNX\n",
        "input_signature = [tf.TensorSpec([None, 28, 28, 1], tf.float32, name='input')]\n",
        "onnx_model, _ = tf2onnx.convert.from_keras(model, input_signature=input_signature, opset=13)\n",
        "with open(\"simple_cnn.onnx\", \"wb\") as f:\n",
        "    f.write(onnx_model.SerializeToString())"
      ],
      "metadata": {
        "id": "AmIYeXiSY3jN"
      },
      "execution_count": 8,
      "outputs": []
    },
    {
      "cell_type": "code",
      "source": [
        "import onnx\n",
        "\n",
        "# Load the ONNX model\n",
        "model_path = 'simple_cnn.onnx'\n",
        "model = onnx.load(model_path)\n",
        "\n",
        "# List all initializers in the model\n",
        "print(\"Listing all tensors (initializers) in the model:\")\n",
        "for tensor in model.graph.initializer:\n",
        "    print(tensor.name, tensor.dims)"
      ],
      "metadata": {
        "colab": {
          "base_uri": "https://localhost:8080/"
        },
        "id": "MQDSS5QEcJY8",
        "outputId": "54b9088e-4f37-4c1a-9106-435c4b7e0b9b"
      },
      "execution_count": 17,
      "outputs": [
        {
          "output_type": "stream",
          "name": "stdout",
          "text": [
            "Listing all tensors (initializers) in the model:\n",
            "sequential_1/dense_1/MatMul/ReadVariableOp:0 [2704, 10]\n",
            "sequential_1/dense_1/BiasAdd/ReadVariableOp:0 [10]\n",
            "sequential_1/conv2d/Conv2D/ReadVariableOp:0 [16, 1, 3, 3]\n",
            "sequential_1/conv2d/BiasAdd/ReadVariableOp:0 [16]\n",
            "new_shape__20 [4]\n",
            "const_fold_opt__21 [2]\n"
          ]
        }
      ]
    },
    {
      "cell_type": "code",
      "source": [
        "import onnx\n",
        "import numpy as np\n",
        "from onnx import numpy_helper\n",
        "\n",
        "# Load the ONNX model\n",
        "model_path = 'simple_cnn.onnx'\n",
        "model = onnx.load(model_path)\n",
        "\n",
        "# Initialize variables for weights and biases\n",
        "weights = None\n",
        "bias = None\n",
        "\n",
        "# Extract weights and biases based on their names\n",
        "for init in model.graph.initializer:\n",
        "    if init.name == \"sequential_1/conv2d/Conv2D/ReadVariableOp:0\":\n",
        "        weights = numpy_helper.to_array(init)\n",
        "    elif init.name == \"sequential_1/conv2d/BiasAdd/ReadVariableOp:0\":\n",
        "        bias = numpy_helper.to_array(init)\n",
        "\n",
        "# Verify if weights and biases have been loaded\n",
        "if weights is not None and bias is not None:\n",
        "    print(\"Weights loaded successfully, shape:\", weights.shape)\n",
        "    print(\"Bias loaded successfully, shape:\", bias.shape)\n",
        "else:\n",
        "    print(\"Failed to load weights and/or bias.\")"
      ],
      "metadata": {
        "colab": {
          "base_uri": "https://localhost:8080/"
        },
        "id": "xA4EkNvqce7y",
        "outputId": "21355b46-d9fd-417e-b28c-b500c8071f52"
      },
      "execution_count": 18,
      "outputs": [
        {
          "output_type": "stream",
          "name": "stdout",
          "text": [
            "Weights loaded successfully, shape: (16, 1, 3, 3)\n",
            "Bias loaded successfully, shape: (16,)\n"
          ]
        }
      ]
    },
    {
      "cell_type": "code",
      "source": [
        "import numpy as np\n",
        "from scipy.signal import convolve2d\n",
        "\n",
        "def manual_convolution(input_data, weights, bias):\n",
        "    num_filters = weights.shape[0]\n",
        "    filter_height = weights.shape[2]\n",
        "    filter_width = weights.shape[3]\n",
        "\n",
        "    batch_size, in_height, in_width, in_channels = input_data.shape\n",
        "\n",
        "    # Calculate output dimensions\n",
        "    output_height = in_height - filter_height + 1\n",
        "    output_width = in_width - filter_width + 1\n",
        "\n",
        "    # Initialize output array\n",
        "    output = np.zeros((batch_size, output_height, output_width, num_filters))\n",
        "\n",
        "    for b in range(batch_size):  # Loop over each image in the batch\n",
        "        for f in range(num_filters):  # Loop over each filter\n",
        "            for c in range(in_channels):  # Loop over each channel in the input image\n",
        "                # Flip the kernel for convolution\n",
        "                kernel_flipped = weights[f, c, ::-1, ::-1]\n",
        "                # Perform convolution\n",
        "                output[b, :, :, f] += convolve2d(input_data[b, :, :, c], kernel_flipped, mode='valid')\n",
        "            # Add bias to each output feature map\n",
        "            output[b, :, :, f] += bias[f]\n",
        "\n",
        "    return output\n",
        "\n",
        "# Example input data: 1 image of 28x28 pixels with 1 channel\n",
        "input_data = np.random.rand(1, 28, 28, 1).astype(np.float32)\n",
        "\n",
        "# Perform the convolution using the loaded weights and bias\n",
        "output = manual_convolution(input_data, weights, bias)\n",
        "print(\"Output shape:\", output.shape)\n",
        "print(\"Sample output data (first feature map of the first image):\", output[0, :, :, 0])"
      ],
      "metadata": {
        "colab": {
          "base_uri": "https://localhost:8080/"
        },
        "id": "scrFjsoWclBA",
        "outputId": "14854949-2493-4c9a-cf89-41c8ee936f12"
      },
      "execution_count": 20,
      "outputs": [
        {
          "output_type": "stream",
          "name": "stdout",
          "text": [
            "Output shape: (1, 26, 26, 16)\n",
            "Sample output data (first feature map of the first image): [[ 9.05715823e-02 -2.12989293e-01 -3.18265595e-01  9.51403677e-02\n",
            "  -1.96818084e-01 -1.52411133e-01 -3.02638672e-01 -2.05000333e-01\n",
            "   1.42135918e-01 -1.48340434e-01  1.46572024e-01 -6.19918108e-04\n",
            "   2.38692760e-03  3.02941561e-01  3.98412943e-02 -3.05842530e-01\n",
            "  -1.26982108e-01  3.91951382e-01 -1.56050533e-01 -2.04448164e-01\n",
            "  -9.00793076e-03  2.17152655e-01 -1.17603153e-01  1.47543162e-01\n",
            "   2.06759632e-01 -4.21393812e-02]\n",
            " [-8.57260823e-03 -3.55904151e-01 -2.89683132e-01 -5.59804142e-02\n",
            "   1.28394932e-01  9.93876457e-02  2.97899306e-01  1.48979425e-02\n",
            "  -4.46240187e-01 -8.70737433e-02  6.37779236e-01  2.12281108e-01\n",
            "   1.41203552e-01  1.29001141e-01 -1.07787564e-01 -2.80707151e-01\n",
            "  -1.28656417e-01  1.51229084e-01 -3.89683448e-01 -3.03893849e-01\n",
            "   1.75491571e-02 -6.89866990e-02  1.56892240e-02  1.72216296e-02\n",
            "  -1.25268325e-01 -9.77045298e-02]\n",
            " [ 2.11118460e-01  2.02155292e-01 -1.57656431e-01  3.87879014e-02\n",
            "  -2.10526973e-01 -5.30629754e-02  2.12560594e-01 -1.09703436e-01\n",
            "   1.52616203e-02  5.17057180e-02  3.69288206e-01  5.40781021e-03\n",
            "  -1.30522400e-01 -6.29876256e-02  6.22111559e-02  2.65621245e-01\n",
            "   5.47687709e-02  1.82416618e-01  6.93750381e-02  3.81177127e-01\n",
            "  -2.59192586e-02 -5.24538755e-03  8.92939270e-02 -3.44102979e-02\n",
            "  -1.98413372e-01  1.19288802e-01]\n",
            " [ 3.95666659e-02  1.71860307e-01  1.59642994e-01 -2.18178824e-01\n",
            "   4.97331619e-02 -1.78530812e-03 -3.04492436e-01  2.26717591e-02\n",
            "   2.44295239e-01  5.30539453e-02  1.32152230e-01 -8.95496905e-02\n",
            "   1.53579712e-01  1.06465459e-01  3.37369740e-02  7.54875839e-02\n",
            "  -1.70021251e-01 -1.46936208e-01  1.69210643e-01  1.85956717e-01\n",
            "   2.88821459e-02 -4.13165540e-01 -4.45937067e-01  1.39148057e-01\n",
            "   1.44702435e-01  2.34052360e-01]\n",
            " [-2.76715722e-01 -1.58914194e-01 -1.68182060e-01  1.35367334e-01\n",
            "   2.92118669e-01  9.38101709e-02  6.31834567e-02 -1.82383657e-01\n",
            "   1.33566499e-01 -1.09509915e-01  1.12783432e-01  2.15044618e-02\n",
            "   4.25837219e-01 -3.07330966e-01 -6.25268042e-01  4.93268967e-02\n",
            "  -8.66055489e-05 -3.56928095e-01 -2.89874673e-02  7.75822401e-02\n",
            "   5.11437178e-01 -1.59744918e-02 -2.83688456e-01 -3.94269526e-02\n",
            "  -8.73762369e-03 -9.07086134e-02]\n",
            " [-4.28972244e-02 -5.16909659e-02 -1.01105392e-01  2.52057314e-02\n",
            "   1.38113201e-02  1.18213534e-01 -1.27328336e-02 -2.20027819e-01\n",
            "   5.92373610e-02  1.77156717e-01  6.43619895e-02  1.50661319e-01\n",
            "  -2.02760696e-02  1.82942152e-01  6.96627498e-02  1.38883531e-01\n",
            "   3.24268460e-01  1.78410709e-02 -3.18744227e-01  1.90816969e-01\n",
            "   5.76022744e-01  3.12506497e-01 -1.81193203e-01 -3.96091372e-01\n",
            "   5.87240458e-02 -5.42582184e-01]\n",
            " [-5.37732244e-02 -3.03947851e-01 -5.23940176e-01 -3.39488223e-01\n",
            "   4.86562252e-02  1.59205794e-02  2.62648642e-01 -3.65386039e-01\n",
            "   5.25163412e-02  6.66724443e-02  2.69170225e-01 -7.13104904e-02\n",
            "  -1.07449606e-01  2.04607248e-01 -2.53662288e-01 -2.55644917e-02\n",
            "   1.64608002e-01 -1.67520180e-01 -3.30299437e-02  2.07194626e-01\n",
            "   2.85131395e-01  3.35709870e-01  1.95806682e-01 -2.10922092e-01\n",
            "  -2.94530392e-03  2.76964962e-01]\n",
            " [ 5.25959134e-02  3.61005306e-01  1.98695362e-02 -6.55734837e-02\n",
            "  -2.77663872e-01  2.18737066e-01  2.33135462e-01  2.60910094e-02\n",
            "  -3.75371054e-01  3.68421316e-01  2.73656368e-01 -6.85440004e-02\n",
            "   1.37347758e-01 -3.96551147e-01  2.07422972e-02  1.10149384e-02\n",
            "  -1.29202724e-01 -6.35439008e-02 -1.83293149e-01 -3.28679383e-02\n",
            "   1.14343882e-01  6.26054704e-02  1.21929169e-01 -3.48605812e-01\n",
            "   2.09995568e-01 -1.51581615e-01]\n",
            " [ 6.91112459e-01  2.30147481e-01  3.92437577e-02  1.76281035e-02\n",
            "  -3.44167508e-01 -4.54534888e-02  1.43047154e-01  1.96176469e-02\n",
            "  -1.94689721e-01  1.36542320e-02 -1.72068983e-01  3.59961987e-02\n",
            "   6.06863201e-02  3.39685380e-01 -3.35712731e-02 -1.95203438e-01\n",
            "   5.15292585e-02 -2.52751380e-01 -2.38672525e-01 -1.13181964e-01\n",
            "   6.68293238e-03  1.42303109e-03 -1.84153333e-01 -6.76994324e-02\n",
            "   8.35982561e-02  3.59269083e-02]\n",
            " [-4.29892838e-02 -9.93379802e-02  2.33604133e-01 -8.23972076e-02\n",
            "   4.59735394e-02 -3.32826750e-01 -2.83962242e-01  1.05208933e-01\n",
            "   1.30362004e-01 -1.84169576e-01  3.81616771e-01  1.39373839e-01\n",
            "  -3.00303802e-01  1.50707960e-02 -3.89507413e-03  2.81146169e-02\n",
            "  -1.09212309e-01  1.78604603e-01  3.93558979e-01  1.75143778e-01\n",
            "   1.94546938e-01  1.36073947e-01 -2.33847201e-01 -2.01590762e-01\n",
            "   5.98794520e-02  9.36137438e-02]\n",
            " [-2.22804070e-01  6.61856472e-01  6.38327301e-02 -2.95741849e-01\n",
            "   5.34597099e-01 -1.03150904e-02 -4.42698255e-01 -7.31615424e-02\n",
            "  -8.34320486e-02  4.75874543e-02 -2.75485218e-02  1.64288431e-01\n",
            "   1.25597239e-01  2.72233784e-01  2.90883720e-01 -1.24122292e-01\n",
            "   1.68402255e-01  1.79533929e-01  4.08417583e-02  2.74926722e-02\n",
            "  -1.09337121e-01  2.06828415e-01  5.53303361e-02 -4.19756770e-02\n",
            "  -4.46355641e-02  1.57894820e-01]\n",
            " [ 3.04447412e-02 -1.99225284e-01 -4.01272446e-01  7.78436661e-02\n",
            "   1.98021770e-01 -4.39080104e-01 -4.81015980e-01 -2.46863067e-02\n",
            "  -2.82687014e-01 -1.56940326e-01 -3.17077123e-01  9.04676318e-03\n",
            "  -3.20076346e-02  3.35118592e-01 -9.86749977e-02  3.45996916e-02\n",
            "   2.71388590e-02  2.77321279e-01 -1.74017623e-01 -3.61781180e-01\n",
            "  -8.58079940e-02  4.43632066e-01  3.68432581e-01 -8.94999802e-02\n",
            "  -3.65680359e-01 -5.30574515e-01]\n",
            " [ 3.27140868e-01 -5.44703022e-01  5.29420376e-03  2.47379422e-01\n",
            "   5.51332831e-02 -1.28511012e-01  2.73802757e-01 -2.82755267e-01\n",
            "  -3.47038582e-01 -6.62170947e-02  6.53230548e-02 -3.16592686e-01\n",
            "  -3.79962727e-01  9.41269994e-02  3.97897363e-02 -1.08602434e-01\n",
            "  -2.55693100e-01  4.56428707e-01 -3.40666771e-02  1.50153518e-01\n",
            "   1.87892020e-02 -2.74201220e-01  1.32097095e-01 -5.06596118e-01\n",
            "  -6.50441319e-01 -4.62008148e-01]\n",
            " [ 2.12116122e-01  2.22196519e-01 -1.09751016e-01  5.25802374e-03\n",
            "  -2.34710351e-01  4.13176298e-01 -6.24390841e-02 -1.42716870e-01\n",
            "   1.35896981e-01 -1.02084309e-01  1.67733490e-01 -1.97979063e-01\n",
            "  -2.11051106e-02 -1.86930589e-01  8.29862356e-02  7.78827369e-02\n",
            "   1.11044526e-01  1.99518442e-01 -2.89485753e-02  1.57297194e-01\n",
            "  -1.81134537e-01 -4.26460549e-01 -1.02632523e-01  2.36974478e-01\n",
            "   5.65371215e-02 -2.78169900e-01]\n",
            " [-1.57293126e-01  3.50003242e-02 -1.02015018e-01  5.04082441e-02\n",
            "  -2.91652650e-01  3.28870416e-02  1.00139827e-01  1.54420495e-01\n",
            "   2.36484051e-01  1.08413786e-01 -5.22358418e-02  2.87234008e-01\n",
            "   2.19823420e-01  2.39196718e-02 -7.94635415e-02  3.96549404e-01\n",
            "   1.61565900e-01  2.12983489e-02 -5.33411205e-02 -4.98638153e-02\n",
            "  -1.75422564e-01 -1.08227625e-01  2.52276182e-01  1.95255220e-01\n",
            "  -5.75490654e-01 -1.46944970e-01]\n",
            " [-1.48647666e-01  5.41806817e-02  1.74536616e-01  1.71318889e-01\n",
            "  -3.22711766e-02 -1.37055948e-01 -2.44628191e-02 -2.21874788e-01\n",
            "  -3.63834254e-01  5.04389107e-02  1.48950815e-02  1.06782258e-01\n",
            "   2.63874233e-01  2.34219670e-01 -1.52991414e-02 -2.17816524e-01\n",
            "  -2.61205044e-01  2.29020536e-01  3.02078068e-01  9.01434124e-02\n",
            "   4.57920730e-02  6.42356873e-01  1.16240382e-02 -5.38379252e-02\n",
            "   4.43956256e-03 -2.00538188e-01]\n",
            " [-1.51736706e-01 -1.03102714e-01 -5.51455617e-02  1.09318435e-01\n",
            "   1.92326188e-01 -4.34148908e-02 -1.95384026e-04 -1.32925212e-02\n",
            "  -4.34247196e-01  1.39407367e-01 -2.53343135e-01 -1.55721769e-01\n",
            "  -2.72284880e-01  3.15447152e-01 -1.01437569e-02 -3.22494164e-01\n",
            "   8.46354961e-02  4.35292661e-01  1.88701153e-01 -4.88983333e-01\n",
            "  -1.44703075e-01  9.87080336e-02 -2.07171455e-01  1.64099842e-01\n",
            "  -3.60527039e-01 -6.57490045e-02]\n",
            " [ 3.57697904e-02 -7.23646879e-02 -4.69586015e-01 -1.02011934e-01\n",
            "  -1.38937205e-01  8.84169638e-02  2.37672150e-01 -9.88090187e-02\n",
            "   2.38466263e-01 -3.82623225e-01 -1.61249548e-01 -2.23828651e-01\n",
            "  -3.10346410e-01  2.86077261e-02 -6.78896606e-02  6.27593398e-02\n",
            "  -2.10059062e-01  2.28983462e-01  4.44384217e-02  3.56900156e-01\n",
            "   2.33497322e-02 -2.40081333e-01  4.02792871e-01  5.10561466e-03\n",
            "   3.73744309e-01  2.26361811e-01]\n",
            " [ 4.21133637e-02 -2.29057319e-01 -4.79038849e-01 -5.47295809e-02\n",
            "   1.47794276e-01 -1.48314103e-01 -4.25043553e-01 -2.69608498e-02\n",
            "   2.44603455e-01  2.36154616e-01  2.18637764e-01 -2.73548573e-01\n",
            "  -3.42341661e-02  7.44343996e-02  3.95682096e-01  1.82963073e-01\n",
            "  -1.06903151e-01 -5.74443877e-01 -6.47813380e-02  2.74914801e-01\n",
            "  -2.93081522e-01 -5.23192585e-02  9.17581618e-02  5.19411564e-02\n",
            "  -8.99498463e-02 -3.74182984e-01]\n",
            " [-3.68089028e-01 -2.55109284e-01  3.38368416e-02 -2.77065277e-01\n",
            "   1.66642785e-01 -2.20126688e-01 -1.00804344e-01 -2.02260777e-01\n",
            "  -2.12599255e-01  1.94540918e-01  2.38831162e-01 -1.67931944e-01\n",
            "  -8.82315636e-03 -4.86401618e-02 -5.36916465e-01  1.02302045e-01\n",
            "   7.80847073e-02 -2.59475186e-01  1.07878953e-01  2.49859810e-01\n",
            "   3.13601494e-01 -1.28341228e-01 -1.39466017e-01 -8.18301439e-02\n",
            "  -2.32741766e-01  1.42987490e-01]\n",
            " [ 1.96395576e-01  2.39689946e-01 -2.28923783e-01 -2.10199557e-01\n",
            "   1.06929898e-01  3.10640872e-01  3.07843149e-01 -1.34229481e-01\n",
            "  -5.39335683e-01 -4.93384778e-01  1.04666650e-02  7.73841739e-02\n",
            "  -2.76793577e-01 -5.79498410e-02 -1.64975703e-01  2.64008641e-02\n",
            "   4.59536016e-02  2.12409735e-01  8.65550041e-02 -2.85197280e-01\n",
            "  -2.22872615e-01  7.25507736e-04  3.71798813e-01 -5.90948164e-02\n",
            "   3.80625129e-02 -1.06071532e-01]\n",
            " [ 9.72586870e-03 -8.13159347e-03 -1.31006032e-01 -6.07866198e-02\n",
            "   1.66247398e-01  1.64210618e-01  3.34112823e-01  2.61645794e-01\n",
            "  -1.04851946e-01 -3.70094314e-01  2.01475203e-01 -7.84954131e-02\n",
            "  -5.52605405e-01 -2.72307992e-02  1.33477151e-01  2.69630551e-02\n",
            "  -1.57843113e-01 -1.90180540e-03 -2.12994896e-01 -4.82584611e-01\n",
            "   3.82908523e-01  4.31077957e-01 -7.71864951e-02  3.99355292e-02\n",
            "  -1.52498066e-01  2.36949980e-01]\n",
            " [-5.47549427e-02 -1.13148302e-01 -1.95515603e-01 -1.02925509e-01\n",
            "  -1.31427109e-01 -2.64474407e-01 -3.69898573e-01  1.06825292e-01\n",
            "   3.18900585e-01  1.48932278e-01 -1.06251836e-01 -2.30929531e-01\n",
            "  -2.05781683e-01 -5.62382042e-01 -1.22152805e-01 -1.89036511e-01\n",
            "  -1.43088251e-01 -1.59513503e-01 -2.50267785e-01  2.23336160e-01\n",
            "  -1.43056139e-01 -2.40168445e-01 -7.49752820e-02  4.24796343e-03\n",
            "   5.36942065e-01  2.31757343e-01]\n",
            " [ 1.17422730e-01 -1.52077377e-01  2.38409996e-01 -8.51651877e-02\n",
            "  -7.62375742e-02 -7.62264431e-02 -2.17011988e-01 -1.45471096e-02\n",
            "  -3.27638179e-01 -3.53044271e-03  4.10481095e-02  1.47005260e-01\n",
            "   9.28939283e-02 -5.68857789e-02 -4.29796748e-01  1.38616860e-02\n",
            "   4.07327771e-01  2.89924860e-01 -1.65045261e-04 -4.30930853e-02\n",
            "  -1.63446158e-01  1.23131663e-01  1.00438237e-01  1.00954771e-01\n",
            "  -2.44604588e-01  1.85251474e-01]\n",
            " [-4.41625714e-02 -5.42949438e-02 -1.07562542e-03 -1.39337257e-01\n",
            "   3.27133000e-01  2.91776776e-01 -4.06253934e-02  1.15047097e-02\n",
            "  -2.12339357e-01 -1.38423383e-01 -1.23429239e-01  2.97900140e-02\n",
            "   3.12928438e-01 -2.62319326e-01 -2.18112648e-01 -3.21638435e-01\n",
            "  -1.95163786e-01  2.13269472e-01  1.50744915e-01 -2.77521789e-01\n",
            "  -2.63310179e-01 -2.54561283e-01  1.15675569e-01  1.08853459e-01\n",
            "   3.91989350e-02  3.16127956e-01]\n",
            " [-2.33699106e-01 -5.44261903e-01 -2.23451421e-01 -5.88667691e-02\n",
            "   1.04955733e-02 -1.58157274e-01 -1.58946708e-01  1.32689714e-01\n",
            "   1.74355567e-01 -1.62586272e-01 -2.98522543e-01 -1.15887195e-01\n",
            "   6.59263134e-03  1.81690574e-01 -9.39109027e-02 -3.56768340e-01\n",
            "  -1.09598964e-01  5.22472739e-01  8.72265100e-02 -2.68005520e-01\n",
            "   1.33965433e-01  3.43082726e-01 -9.71898288e-02  2.43088901e-01\n",
            "   9.32675004e-02 -3.45985353e-01]]\n"
          ]
        }
      ]
    },
    {
      "cell_type": "code",
      "source": [
        "# !pip install -q netron\n",
        "import netron\n",
        "import portpicker\n",
        "from google.colab import output\n",
        "\n",
        "port = portpicker.pick_unused_port()\n",
        "\n",
        "# Read the model file and start the netron browser.\n",
        "with output.temporary():\n",
        "  netron.start('/content/simple_cnn.onnx', port, browse=False)\n",
        "\n",
        "output.serve_kernel_port_as_iframe(port, height='800')"
      ],
      "metadata": {
        "colab": {
          "base_uri": "https://localhost:8080/",
          "height": 821
        },
        "id": "MmzFighQdM_W",
        "outputId": "d32ccb42-6ea3-4320-e518-9869b1990a17"
      },
      "execution_count": 21,
      "outputs": [
        {
          "output_type": "display_data",
          "data": {
            "text/plain": [
              "<IPython.core.display.Javascript object>"
            ],
            "application/javascript": [
              "(async (port, path, width, height, cache, element) => {\n",
              "    if (!google.colab.kernel.accessAllowed && !cache) {\n",
              "      return;\n",
              "    }\n",
              "    element.appendChild(document.createTextNode(''));\n",
              "    const url = await google.colab.kernel.proxyPort(port, {cache});\n",
              "    const iframe = document.createElement('iframe');\n",
              "    iframe.src = new URL(path, url).toString();\n",
              "    iframe.height = height;\n",
              "    iframe.width = width;\n",
              "    iframe.style.border = 0;\n",
              "    iframe.allow = [\n",
              "        'accelerometer',\n",
              "        'autoplay',\n",
              "        'camera',\n",
              "        'clipboard-read',\n",
              "        'clipboard-write',\n",
              "        'gyroscope',\n",
              "        'magnetometer',\n",
              "        'microphone',\n",
              "        'serial',\n",
              "        'usb',\n",
              "        'xr-spatial-tracking',\n",
              "    ].join('; ');\n",
              "    element.appendChild(iframe);\n",
              "  })(36679, \"/\", \"100%\", \"800\", false, window.element)"
            ]
          },
          "metadata": {}
        }
      ]
    },
    {
      "cell_type": "code",
      "source": [
        "import tensorflow as tf\n",
        "import numpy as np\n",
        "import matplotlib.pyplot as plt\n",
        "from scipy.signal import convolve2d\n",
        "import tf2onnx\n",
        "import onnx\n",
        "from onnx import numpy_helper\n",
        "\n",
        "# Load the MNIST dataset\n",
        "mnist = tf.keras.datasets.mnist\n",
        "(train_images, train_labels), (_, _) = mnist.load_data()\n",
        "train_images = train_images.reshape((train_images.shape[0], 28, 28, 1)).astype('float32') / 255\n",
        "\n",
        "# Define a simple CNN model\n",
        "model = tf.keras.Sequential([\n",
        "    tf.keras.layers.Conv2D(16, (3, 3), activation='relu', input_shape=(28, 28, 1)),\n",
        "    tf.keras.layers.MaxPooling2D(2, 2),\n",
        "    tf.keras.layers.Flatten(),\n",
        "    tf.keras.layers.Dense(10, activation='softmax')\n",
        "])\n",
        "model.compile(optimizer='adam', loss='sparse_categorical_crossentropy', metrics=['accuracy'])\n",
        "model.fit(train_images, train_labels, epochs=5, verbose=2)\n",
        "\n",
        "# Convert model to ONNX\n",
        "input_signature = [tf.TensorSpec([None, 28, 28, 1], tf.float32, name='input')]\n",
        "onnx_model, _ = tf2onnx.convert.from_keras(model, input_signature=input_signature, opset=13)\n",
        "with open(\"simple_cnn.onnx\", \"wb\") as f:\n",
        "    f.write(onnx_model.SerializeToString())"
      ],
      "metadata": {
        "id": "z11WR_BEemQn"
      },
      "execution_count": null,
      "outputs": []
    },
    {
      "cell_type": "code",
      "source": [
        "import onnx\n",
        "\n",
        "# Load the ONNX model\n",
        "model_path = 'simple_cnn.onnx'\n",
        "model = onnx.load(model_path)\n",
        "\n",
        "# Print all initializers (weights and biases usually reside here)\n",
        "print(\"Initializers in the ONNX model:\")\n",
        "for init in model.graph.initializer:\n",
        "    print(init.name)\n"
      ],
      "metadata": {
        "colab": {
          "base_uri": "https://localhost:8080/"
        },
        "id": "Tq7eagtxfHi9",
        "outputId": "fb2562ab-8302-46ff-9068-4e4b707b30c9"
      },
      "execution_count": 23,
      "outputs": [
        {
          "output_type": "stream",
          "name": "stdout",
          "text": [
            "Initializers in the ONNX model:\n",
            "sequential_2/dense_2/MatMul/ReadVariableOp:0\n",
            "sequential_2/dense_2/BiasAdd/ReadVariableOp:0\n",
            "sequential_2/conv2d_1/Conv2D/ReadVariableOp:0\n",
            "sequential_2/conv2d_1/BiasAdd/ReadVariableOp:0\n",
            "new_shape__36\n",
            "const_fold_opt__37\n"
          ]
        }
      ]
    },
    {
      "cell_type": "code",
      "source": [
        "import onnx\n",
        "from onnx import numpy_helper\n",
        "\n",
        "# Load the ONNX model\n",
        "model_path = 'simple_cnn.onnx'\n",
        "model = onnx.load(model_path)\n",
        "\n",
        "# Initialize variables for weights and biases\n",
        "weights = None\n",
        "bias = None\n",
        "\n",
        "# Extract weights and biases based on their names\n",
        "for init in model.graph.initializer:\n",
        "    if init.name == \"sequential_2/conv2d_1/Conv2D/ReadVariableOp:0\":\n",
        "        weights = numpy_helper.to_array(init)\n",
        "    elif init.name == \"sequential_2/conv2d_1/BiasAdd/ReadVariableOp:0\":\n",
        "        bias = numpy_helper.to_array(init)\n",
        "\n",
        "# Ensure weights and biases were loaded\n",
        "assert weights is not None and bias is not None, \"Failed to load weights and/or bias.\"\n",
        "\n",
        "# Now you can proceed with any operations that use these weights and biases\n",
        "\n",
        "# Manual convolution function\n",
        "def manual_convolution(input_data, weights, bias):\n",
        "    num_filters = weights.shape[0]\n",
        "    filter_height = weights.shape[2]\n",
        "    filter_width = weights.shape[3]\n",
        "    batch_size, in_height, in_width, in_channels = input_data.shape\n",
        "    output_height = in_height - filter_height + 1\n",
        "    output_width = in_width - filter_width + 1\n",
        "    output = np.zeros((batch_size, output_height, output_width, num_filters))\n",
        "    for b in range(batch_size):\n",
        "        for f in range(num_filters):\n",
        "            for c in range(in_channels):\n",
        "                kernel_flipped = weights[f, c, ::-1, ::-1]\n",
        "                output[b, :, :, f] += convolve2d(input_data[b, :, :, c], kernel_flipped, mode='valid')\n",
        "            output[b, :, :, f] += bias[f]\n",
        "    return output\n",
        "\n",
        "# Load and preprocess a specific MNIST image\n",
        "input_image = train_images[0:1]  # Use the first image from the training set\n",
        "\n",
        "# Perform the convolution\n",
        "output = manual_convolution(input_image, weights, bias)\n",
        "\n",
        "# Visualization\n",
        "plt.figure(figsize=(10, 5))\n",
        "plt.subplot(1, 2, 1)\n",
        "plt.title('Original MNIST Image')\n",
        "plt.imshow(input_image[0, :, :, 0], cmap='gray')\n",
        "plt.colorbar()\n",
        "plt.grid(False)\n",
        "\n",
        "plt.subplot(1, 2, 2)\n",
        "plt.title('Convolved Feature Map')\n",
        "plt.imshow(output[0, :, :, 0], cmap='gray')\n",
        "plt.colorbar()\n",
        "plt.grid(False)\n",
        "\n",
        "plt.show()"
      ],
      "metadata": {
        "colab": {
          "base_uri": "https://localhost:8080/",
          "height": 435
        },
        "id": "2FKgDmPSfUZc",
        "outputId": "e255d9b3-fcba-43dd-8c0f-a343b528fa66"
      },
      "execution_count": 25,
      "outputs": [
        {
          "output_type": "display_data",
          "data": {
            "text/plain": [
              "<Figure size 1000x500 with 4 Axes>"
            ],
            "image/png": "[encoded data removed]"
          },
          "metadata": {}
        }
      ]
    },
    {
      "cell_type": "code",
      "source": [
        "import netron\n",
        "import portpicker\n",
        "from google.colab import output\n",
        "\n",
        "port = portpicker.pick_unused_port()\n",
        "\n",
        "# Read the model file and start the netron browser.\n",
        "with output.temporary():\n",
        "  netron.start('/content/simple_cnn.onnx', port, browse=False)\n",
        "\n",
        "output.serve_kernel_port_as_iframe(port, height='800')"
      ],
      "metadata": {
        "colab": {
          "base_uri": "https://localhost:8080/",
          "height": 821
        },
        "id": "paQ3-0odZYIR",
        "outputId": "a7911070-a599-413b-96b9-25bb20ce7e3e"
      },
      "execution_count": 52,
      "outputs": [
        {
          "output_type": "display_data",
          "data": {
            "text/plain": [
              "<IPython.core.display.Javascript object>"
            ],
            "application/javascript": [
              "(async (port, path, width, height, cache, element) => {\n",
              "    if (!google.colab.kernel.accessAllowed && !cache) {\n",
              "      return;\n",
              "    }\n",
              "    element.appendChild(document.createTextNode(''));\n",
              "    const url = await google.colab.kernel.proxyPort(port, {cache});\n",
              "    const iframe = document.createElement('iframe');\n",
              "    iframe.src = new URL(path, url).toString();\n",
              "    iframe.height = height;\n",
              "    iframe.width = width;\n",
              "    iframe.style.border = 0;\n",
              "    iframe.allow = [\n",
              "        'accelerometer',\n",
              "        'autoplay',\n",
              "        'camera',\n",
              "        'clipboard-read',\n",
              "        'clipboard-write',\n",
              "        'gyroscope',\n",
              "        'magnetometer',\n",
              "        'microphone',\n",
              "        'serial',\n",
              "        'usb',\n",
              "        'xr-spatial-tracking',\n",
              "    ].join('; ');\n",
              "    element.appendChild(iframe);\n",
              "  })(46553, \"/\", \"100%\", \"800\", false, window.element)"
            ]
          },
          "metadata": {}
        }
      ]
    }
  ]
}